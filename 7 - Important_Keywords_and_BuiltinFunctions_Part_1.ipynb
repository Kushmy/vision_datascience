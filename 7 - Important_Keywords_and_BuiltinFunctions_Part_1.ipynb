{
 "cells": [
  {
   "cell_type": "markdown",
   "metadata": {},
   "source": [
    "Raju and Ramu are two friends in school. Raju has Rs 10 with whereas Ramu has Rs 50 with him. \n",
    "\n",
    "Both start from home together. Bus fare is Rs 20. Hence Raju borrows Rs 10 from Ramu.\n",
    "\n",
    "After first lecture Ramu goes to library. He has 4 books in his bag. Physics, Maths, Social, English.He exchanges English book with Hindi book.\n",
    "\n",
    "Now both decides to go to theatre and watch movie. They will watch the movie only if they both are able to pay the price individually. Movie ticket costs Rs 20.\n",
    "Do they watch the movie?\n",
    "\n",
    "Raju finds a dictionary nearby lying there. He finds it empty. Ramu asks Raju fill the dictionary with five countries and there names.\n",
    "\n",
    "Now, Raju opens his bag. From his list of books, he picks Physics book, reads the same. After that he writes a message, \"I have read Physics book\".\n",
    "He continues the same for the remaining books.\n",
    "\n",
    "Then both start return journey. They decide that if they will buy ticket if they have enough otherwise they will travel freely.\n",
    "Did they buy return journey the ticket?\n",
    "\n",
    "They reach home and starts playing in nearby playground."
   ]
  },
  {
   "cell_type": "code",
   "execution_count": 11,
   "metadata": {},
   "outputs": [],
   "source": [
    "raju = 10\n",
    "ramu = 50"
   ]
  },
  {
   "cell_type": "code",
   "execution_count": 12,
   "metadata": {},
   "outputs": [],
   "source": [
    "bus_fare = 20"
   ]
  },
  {
   "cell_type": "code",
   "execution_count": 13,
   "metadata": {},
   "outputs": [],
   "source": [
    "borrow_amount = 10\n",
    "ramu -= borrow_amount\n",
    "raju += borrow_amount # raju = raju + borrow_amount"
   ]
  },
  {
   "cell_type": "code",
   "execution_count": 14,
   "metadata": {},
   "outputs": [],
   "source": [
    "ramu -= bus_fare\n",
    "raju -= bus_fare"
   ]
  },
  {
   "cell_type": "code",
   "execution_count": 15,
   "metadata": {},
   "outputs": [],
   "source": [
    "ramu_book_list = ['Physics', 'Maths', 'Social', 'English'] \n",
    "ramu_book_list[3]='Hindi' "
   ]
  },
  {
   "cell_type": "code",
   "execution_count": 17,
   "metadata": {},
   "outputs": [
    {
     "name": "stdout",
     "output_type": "stream",
     "text": [
      "No movie!\n"
     ]
    }
   ],
   "source": [
    "movie_fare = 20\n",
    "if (raju >= movie_fare and ramu >= movie_fare):\n",
    "    print('Yeah! Letz wath a movie!')\n",
    "    ramu -= movie_fare\n",
    "    raju -= movie_fare\n",
    "else:\n",
    "    print('No movie!')"
   ]
  },
  {
   "cell_type": "code",
   "execution_count": 18,
   "metadata": {},
   "outputs": [],
   "source": [
    "a_dict = {}\n",
    "a_dict['India'] = 'New Delhi'\n",
    "a_dict['Nepal'] = 'Kathmandu'"
   ]
  },
  {
   "cell_type": "code",
   "execution_count": 19,
   "metadata": {},
   "outputs": [
    {
     "data": {
      "text/plain": [
       "{'India': 'New Delhi', 'Nepal': 'Kathmandu'}"
      ]
     },
     "execution_count": 19,
     "metadata": {},
     "output_type": "execute_result"
    }
   ],
   "source": [
    "a_dict"
   ]
  },
  {
   "cell_type": "code",
   "execution_count": 23,
   "metadata": {},
   "outputs": [
    {
     "data": {
      "text/plain": [
       "[0, 1, 2, 3, 4]"
      ]
     },
     "execution_count": 23,
     "metadata": {},
     "output_type": "execute_result"
    }
   ],
   "source": [
    "list(range(5))"
   ]
  },
  {
   "cell_type": "code",
   "execution_count": 20,
   "metadata": {},
   "outputs": [],
   "source": [
    "a_dict = {}\n",
    "for i in range(5):\n",
    "    a_dict['Country'+str(i)] = 'Captial'+str(i)"
   ]
  },
  {
   "cell_type": "code",
   "execution_count": 21,
   "metadata": {},
   "outputs": [
    {
     "data": {
      "text/plain": [
       "{'Country0': 'Captial0',\n",
       " 'Country1': 'Captial1',\n",
       " 'Country2': 'Captial2',\n",
       " 'Country3': 'Captial3',\n",
       " 'Country4': 'Captial4'}"
      ]
     },
     "execution_count": 21,
     "metadata": {},
     "output_type": "execute_result"
    }
   ],
   "source": [
    "a_dict"
   ]
  },
  {
   "cell_type": "code",
   "execution_count": 24,
   "metadata": {},
   "outputs": [
    {
     "name": "stdout",
     "output_type": "stream",
     "text": [
      "I have read Physics book\n",
      "I have read Maths book\n",
      "I have read Social book\n",
      "I have read Hindi book\n"
     ]
    }
   ],
   "source": [
    "for book in ramu_book_list:\n",
    "    print(\"I have read {} book\".format(book))"
   ]
  },
  {
   "cell_type": "code",
   "execution_count": 25,
   "metadata": {},
   "outputs": [
    {
     "name": "stdout",
     "output_type": "stream",
     "text": [
      "Travel freely!\n"
     ]
    }
   ],
   "source": [
    "if (raju >= bus_fare and ramu >= bus_fare): # amounts need to be checked individually\n",
    "    print('Yeah! Letz buy the bus tickets!')\n",
    "    ramu -= bus_fare\n",
    "    raju -= bus_fare\n",
    "else:\n",
    "    print('Travel freely!')"
   ]
  },
  {
   "cell_type": "code",
   "execution_count": 26,
   "metadata": {},
   "outputs": [
    {
     "name": "stdout",
     "output_type": "stream",
     "text": [
      "Travel freely!\n"
     ]
    }
   ],
   "source": [
    "if (raju >= 2*bus_fare or ramu >= 2*bus_fare): # amounts need to be checked in combination (total)\n",
    "    print('Yeah! Letz buy the bus tickets!')\n",
    "    ramu -= bus_fare\n",
    "    raju -= bus_fare\n",
    "else:\n",
    "    print('Travel freely!')"
   ]
  },
  {
   "cell_type": "markdown",
   "metadata": {},
   "source": [
    "### Function: range() returns a 'range' iterable object, can be converted to a list\n",
    "\n",
    "### Syntax: \n",
    "### range(stop)\n",
    "### range(start, stop)\n",
    "### range(start, stop, step)"
   ]
  },
  {
   "cell_type": "code",
   "execution_count": 27,
   "metadata": {},
   "outputs": [
    {
     "data": {
      "text/plain": [
       "[5, 6, 7, 8, 9]"
      ]
     },
     "execution_count": 27,
     "metadata": {},
     "output_type": "execute_result"
    }
   ],
   "source": [
    "list(range(5, 10))"
   ]
  },
  {
   "cell_type": "code",
   "execution_count": 28,
   "metadata": {},
   "outputs": [
    {
     "data": {
      "text/plain": [
       "[5, 7, 9, 11, 13, 15, 17, 19]"
      ]
     },
     "execution_count": 28,
     "metadata": {},
     "output_type": "execute_result"
    }
   ],
   "source": [
    "list(range(5, 20, 2))"
   ]
  },
  {
   "cell_type": "markdown",
   "metadata": {},
   "source": [
    "1, 1, 2, 3, 5, 8, ..."
   ]
  },
  {
   "cell_type": "code",
   "execution_count": 29,
   "metadata": {},
   "outputs": [
    {
     "data": {
      "text/plain": [
       "[1, 1, 2, 3, 5, 8, 13, 21, 34, 55, 89, 144]"
      ]
     },
     "execution_count": 29,
     "metadata": {},
     "output_type": "execute_result"
    }
   ],
   "source": [
    "fib_list = [1, 1]\n",
    "for i in range(10):\n",
    "    fib_list.append(fib_list[-1] + fib_list[-2])\n",
    "fib_list"
   ]
  },
  {
   "cell_type": "markdown",
   "metadata": {},
   "source": [
    "### Operators: Division vs. Integer Division"
   ]
  },
  {
   "cell_type": "code",
   "execution_count": 30,
   "metadata": {},
   "outputs": [],
   "source": [
    "x = 10\n",
    "y = 5"
   ]
  },
  {
   "cell_type": "code",
   "execution_count": 32,
   "metadata": {},
   "outputs": [
    {
     "data": {
      "text/plain": [
       "2.0"
      ]
     },
     "execution_count": 32,
     "metadata": {},
     "output_type": "execute_result"
    }
   ],
   "source": [
    "z = x / y\n",
    "z"
   ]
  },
  {
   "cell_type": "code",
   "execution_count": 33,
   "metadata": {},
   "outputs": [
    {
     "data": {
      "text/plain": [
       "2"
      ]
     },
     "execution_count": 33,
     "metadata": {},
     "output_type": "execute_result"
    }
   ],
   "source": [
    "z = x // y # z //= y   --> z = z // y\n",
    "z"
   ]
  },
  {
   "cell_type": "markdown",
   "metadata": {},
   "source": [
    "### Operator: Modulus"
   ]
  },
  {
   "cell_type": "code",
   "execution_count": 34,
   "metadata": {},
   "outputs": [
    {
     "data": {
      "text/plain": [
       "0"
      ]
     },
     "execution_count": 34,
     "metadata": {},
     "output_type": "execute_result"
    }
   ],
   "source": [
    "x % 2  # remainder of x / 2 "
   ]
  },
  {
   "cell_type": "code",
   "execution_count": 35,
   "metadata": {},
   "outputs": [
    {
     "data": {
      "text/plain": [
       "1"
      ]
     },
     "execution_count": 35,
     "metadata": {},
     "output_type": "execute_result"
    }
   ],
   "source": [
    "y % 2"
   ]
  },
  {
   "cell_type": "markdown",
   "metadata": {},
   "source": [
    "### Operator: Exponent"
   ]
  },
  {
   "cell_type": "code",
   "execution_count": 36,
   "metadata": {},
   "outputs": [
    {
     "data": {
      "text/plain": [
       "32"
      ]
     },
     "execution_count": 36,
     "metadata": {},
     "output_type": "execute_result"
    }
   ],
   "source": [
    "2 ** y"
   ]
  },
  {
   "cell_type": "markdown",
   "metadata": {},
   "source": [
    "### Function: enumerate() returns a list of (index, item) tuples\n",
    "\n",
    "### Syntax:\n",
    "### enumerate(iterable)\n",
    "### enumerate(iterable, index_offset)"
   ]
  },
  {
   "cell_type": "code",
   "execution_count": 37,
   "metadata": {},
   "outputs": [
    {
     "name": "stdout",
     "output_type": "stream",
     "text": [
      "I have read book number 0, name Physics\n",
      "I have read book number 1, name Maths\n",
      "I have read book number 2, name Social\n",
      "I have read book number 3, name Hindi\n"
     ]
    }
   ],
   "source": [
    "for book_index, book_name in enumerate(ramu_book_list):\n",
    "    print(\"I have read book number {}, name {}\".format(book_index, book_name))"
   ]
  },
  {
   "cell_type": "code",
   "execution_count": 38,
   "metadata": {},
   "outputs": [
    {
     "name": "stdout",
     "output_type": "stream",
     "text": [
      "0. Physics\n",
      "1. Maths\n",
      "2. Social\n",
      "3. Hindi\n"
     ]
    }
   ],
   "source": [
    "for book_index, book_name in enumerate(ramu_book_list):\n",
    "    print(\"{}. {}\".format(book_index, book_name))"
   ]
  },
  {
   "cell_type": "code",
   "execution_count": 39,
   "metadata": {},
   "outputs": [
    {
     "name": "stdout",
     "output_type": "stream",
     "text": [
      "11. Physics\n",
      "12. Maths\n",
      "13. Social\n",
      "14. Hindi\n"
     ]
    }
   ],
   "source": [
    "for book_index, book_name in enumerate(ramu_book_list, 11):\n",
    "    print(\"{}. {}\".format(book_index, book_name))"
   ]
  },
  {
   "cell_type": "code",
   "execution_count": 40,
   "metadata": {},
   "outputs": [
    {
     "name": "stdout",
     "output_type": "stream",
     "text": [
      "I have read book number 0, name Physics\n",
      "I have read book number 1, name Maths\n",
      "I have read book number 2, name Social\n"
     ]
    }
   ],
   "source": [
    "for book_index, book_name in enumerate(ramu_book_list):\n",
    "    if book_index != 3:\n",
    "        print(\"I have read book number {}, name {}\".format(book_index, book_name))"
   ]
  },
  {
   "cell_type": "markdown",
   "metadata": {},
   "source": [
    "### Keyword: not"
   ]
  },
  {
   "cell_type": "code",
   "execution_count": 41,
   "metadata": {},
   "outputs": [],
   "source": [
    "new_book = 'Statistics'\n",
    "if new_book not in ramu_book_list:\n",
    "    ramu_book_list.append(new_book)"
   ]
  },
  {
   "cell_type": "code",
   "execution_count": 42,
   "metadata": {},
   "outputs": [
    {
     "data": {
      "text/plain": [
       "['Physics', 'Maths', 'Social', 'Hindi', 'Statistics']"
      ]
     },
     "execution_count": 42,
     "metadata": {},
     "output_type": "execute_result"
    }
   ],
   "source": [
    "ramu_book_list"
   ]
  },
  {
   "cell_type": "markdown",
   "metadata": {},
   "source": [
    "### Function: zip() returns a list of (item, item, ...) tuples\n",
    "\n",
    "### Syntax:\n",
    "### zip(iterable1, iterable2, ...)"
   ]
  },
  {
   "cell_type": "code",
   "execution_count": 43,
   "metadata": {},
   "outputs": [],
   "source": [
    "author_list = ['Tanvee', 'Parv', 'Nitin', 'Parv', 'Nitin']"
   ]
  },
  {
   "cell_type": "code",
   "execution_count": 44,
   "metadata": {},
   "outputs": [
    {
     "name": "stdout",
     "output_type": "stream",
     "text": [
      "Book Physics by Tanvee\n",
      "Book Maths by Parv\n",
      "Book Social by Nitin\n",
      "Book Hindi by Parv\n",
      "Book Statistics by Nitin\n"
     ]
    }
   ],
   "source": [
    "for book_name, author_name in zip(ramu_book_list, author_list):\n",
    "    print('Book {} by {}'.format(book_name, author_name))"
   ]
  },
  {
   "cell_type": "code",
   "execution_count": 46,
   "metadata": {},
   "outputs": [
    {
     "name": "stdout",
     "output_type": "stream",
     "text": [
      "Book Physics by Tanvee\n",
      "Book Maths by Parv\n",
      "Book Social by Nitin\n",
      "Book Hindi by Parv\n",
      "Book Statistics by Nitin\n"
     ]
    }
   ],
   "source": [
    "for book_name_author in zip(ramu_book_list, author_list):\n",
    "    print('Book {} by {}'.format(book_name_author[0], book_name_author[1]))"
   ]
  },
  {
   "cell_type": "code",
   "execution_count": 48,
   "metadata": {},
   "outputs": [
    {
     "name": "stdout",
     "output_type": "stream",
     "text": [
      "V\n",
      "s\n",
      "o\n",
      " \n",
      "a\n",
      "a\n",
      "c\n",
      "e\n",
      "c\n",
      " \n",
      "o\n",
      "k\n",
      "!\n"
     ]
    }
   ],
   "source": [
    "for i, c in enumerate('Vision DataScience Rocks!'):\n",
    "    if (i % 2) == 0:\n",
    "        print(c)"
   ]
  },
  {
   "cell_type": "markdown",
   "metadata": {},
   "source": [
    "### Creating a dictionary from 2 lists"
   ]
  },
  {
   "cell_type": "code",
   "execution_count": 49,
   "metadata": {},
   "outputs": [
    {
     "data": {
      "text/plain": [
       "{'Physics': 'Tanvee',\n",
       " 'Maths': 'Parv',\n",
       " 'Social': 'Nitin',\n",
       " 'Hindi': 'Parv',\n",
       " 'Statistics': 'Nitin'}"
      ]
     },
     "execution_count": 49,
     "metadata": {},
     "output_type": "execute_result"
    }
   ],
   "source": [
    "lib_dict = {}\n",
    "for book_name, author_name in zip(ramu_book_list, author_list):\n",
    "    lib_dict[book_name] = author_name\n",
    "lib_dict"
   ]
  },
  {
   "cell_type": "markdown",
   "metadata": {},
   "source": [
    "### Demonstration of what happens when duplicate key is encountered"
   ]
  },
  {
   "cell_type": "code",
   "execution_count": 50,
   "metadata": {},
   "outputs": [
    {
     "data": {
      "text/plain": [
       "{'Tanvee': 'Physics', 'Parv': 'Hindi', 'Nitin': 'Statistics'}"
      ]
     },
     "execution_count": 50,
     "metadata": {},
     "output_type": "execute_result"
    }
   ],
   "source": [
    "lib_dict = {}\n",
    "for book_name, author_name in zip(ramu_book_list, author_list):\n",
    "    lib_dict[author_name] = book_name\n",
    "lib_dict"
   ]
  }
 ],
 "metadata": {
  "kernelspec": {
   "display_name": "Python 3",
   "language": "python",
   "name": "python3"
  },
  "language_info": {
   "codemirror_mode": {
    "name": "ipython",
    "version": 3
   },
   "file_extension": ".py",
   "mimetype": "text/x-python",
   "name": "python",
   "nbconvert_exporter": "python",
   "pygments_lexer": "ipython3",
   "version": "3.7.4"
  }
 },
 "nbformat": 4,
 "nbformat_minor": 2
}
