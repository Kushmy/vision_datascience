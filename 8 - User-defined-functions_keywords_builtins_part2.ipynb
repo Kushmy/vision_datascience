{
 "cells": [
  {
   "cell_type": "markdown",
   "metadata": {},
   "source": [
    "### User-defined functions (procedures) using the keywords 'def' and 'return'"
   ]
  },
  {
   "cell_type": "code",
   "execution_count": 11,
   "metadata": {},
   "outputs": [],
   "source": [
    "def generate_fibonacci_series(number_count=10):\n",
    "    fib_list = [1, 1]\n",
    "    for i in range(number_count):\n",
    "        fib_list.append(fib_list[-1] + fib_list[-2])\n",
    "    print(fib_list)  # generally a bad idea to print from within functions!"
   ]
  },
  {
   "cell_type": "code",
   "execution_count": 13,
   "metadata": {},
   "outputs": [
    {
     "name": "stdout",
     "output_type": "stream",
     "text": [
      "[1, 1, 2, 3, 5, 8, 13, 21, 34, 55, 89, 144, 233, 377, 610, 987, 1597, 2584, 4181, 6765, 10946, 17711]\n"
     ]
    }
   ],
   "source": [
    "generate_fibonacci_series(20) # cannot store this list as it is not returned by our function"
   ]
  },
  {
   "cell_type": "code",
   "execution_count": 14,
   "metadata": {},
   "outputs": [],
   "source": [
    "def generate_fibonacci_series(number_count=10):\n",
    "    fib_list = [1, 1]\n",
    "    for i in range(number_count):\n",
    "        fib_list.append(fib_list[-1] + fib_list[-2])\n",
    "    return fib_list # Return a list"
   ]
  },
  {
   "cell_type": "code",
   "execution_count": 18,
   "metadata": {},
   "outputs": [
    {
     "name": "stdout",
     "output_type": "stream",
     "text": [
      "[1, 1, 2, 3, 5, 8, 13, 21, 34, 55, 89, 144, 233, 377, 610, 987, 1597, 2584, 4181, 6765, 10946, 17711]\n"
     ]
    }
   ],
   "source": [
    "fibonacci_series = generate_fibonacci_series(20) # store the returned list in a variable\n",
    "print(fibonacci_series)"
   ]
  },
  {
   "cell_type": "markdown",
   "metadata": {},
   "source": [
    "#### What gets returned is up to you and the problem you are trying to solve with the function.\n",
    "#### The 'return' keyword can be used to return a single variable such as a single integer or a single float.\n",
    "#### It can also be used to return collections and iterables such as a string or a list or a tuple or a dict.\n",
    "#### In fact, you can also return multiple objects!"
   ]
  },
  {
   "cell_type": "code",
   "execution_count": 23,
   "metadata": {},
   "outputs": [],
   "source": [
    "def power_of_2(exponent=5):\n",
    "    return 2**exponent # Return an integer"
   ]
  },
  {
   "cell_type": "code",
   "execution_count": 25,
   "metadata": {},
   "outputs": [
    {
     "name": "stdout",
     "output_type": "stream",
     "text": [
      "1024\n"
     ]
    }
   ],
   "source": [
    "x = power_of_2(10)\n",
    "print(x)"
   ]
  },
  {
   "cell_type": "code",
   "execution_count": 26,
   "metadata": {},
   "outputs": [],
   "source": [
    "def power_of_2(exponent=5):\n",
    "    print(2**exponent)"
   ]
  },
  {
   "cell_type": "code",
   "execution_count": 27,
   "metadata": {},
   "outputs": [
    {
     "name": "stdout",
     "output_type": "stream",
     "text": [
      "1024\n",
      "None\n"
     ]
    }
   ],
   "source": [
    "x = power_of_2(10)\n",
    "print(x)"
   ]
  },
  {
   "cell_type": "markdown",
   "metadata": {},
   "source": [
    "### Set: unordered collection of unique items\n",
    "#### Useful to remove duplicates from a list, also supports very fast search operations"
   ]
  },
  {
   "cell_type": "code",
   "execution_count": 36,
   "metadata": {},
   "outputs": [],
   "source": [
    "def dedup_list(a_list):\n",
    "    return list(set(a_list))"
   ]
  },
  {
   "cell_type": "code",
   "execution_count": 37,
   "metadata": {},
   "outputs": [],
   "source": [
    "dedup_fibonacci_series = dedup_list(fibonacci_series)"
   ]
  },
  {
   "cell_type": "code",
   "execution_count": 38,
   "metadata": {},
   "outputs": [
    {
     "data": {
      "text/plain": [
       "[1,\n",
       " 2,\n",
       " 3,\n",
       " 5,\n",
       " 8,\n",
       " 13,\n",
       " 144,\n",
       " 21,\n",
       " 2584,\n",
       " 34,\n",
       " 17711,\n",
       " 55,\n",
       " 1597,\n",
       " 10946,\n",
       " 4181,\n",
       " 89,\n",
       " 987,\n",
       " 610,\n",
       " 233,\n",
       " 6765,\n",
       " 377]"
      ]
     },
     "execution_count": 38,
     "metadata": {},
     "output_type": "execute_result"
    }
   ],
   "source": [
    "dedup_fibonacci_series # this is a deduplicated copy of the original list"
   ]
  },
  {
   "cell_type": "code",
   "execution_count": 39,
   "metadata": {},
   "outputs": [
    {
     "data": {
      "text/plain": [
       "[1,\n",
       " 1,\n",
       " 2,\n",
       " 3,\n",
       " 5,\n",
       " 8,\n",
       " 13,\n",
       " 21,\n",
       " 34,\n",
       " 55,\n",
       " 89,\n",
       " 144,\n",
       " 233,\n",
       " 377,\n",
       " 610,\n",
       " 987,\n",
       " 1597,\n",
       " 2584,\n",
       " 4181,\n",
       " 6765,\n",
       " 10946,\n",
       " 17711]"
      ]
     },
     "execution_count": 39,
     "metadata": {},
     "output_type": "execute_result"
    }
   ],
   "source": [
    "fibonacci_series # original list is not changed!"
   ]
  },
  {
   "cell_type": "markdown",
   "metadata": {},
   "source": [
    "### Built-in functions: any(), all()"
   ]
  },
  {
   "cell_type": "code",
   "execution_count": 40,
   "metadata": {},
   "outputs": [],
   "source": [
    "student_list = ['Anamika', 'Rajiv', 'Tanvee']"
   ]
  },
  {
   "cell_type": "code",
   "execution_count": 65,
   "metadata": {},
   "outputs": [],
   "source": [
    "def students_present(student_list):\n",
    "    \n",
    "    attendance_list = []\n",
    "    for student in student_list:\n",
    "        student_present = (input('{} present? (Y/N): '.format(student))).lower()\n",
    "        if student_present == 'y':\n",
    "            attendance_list.append(True)\n",
    "        else:\n",
    "            attendance_list.append(False)\n",
    "            \n",
    "    return attendance_list"
   ]
  },
  {
   "cell_type": "code",
   "execution_count": 66,
   "metadata": {},
   "outputs": [
    {
     "name": "stdout",
     "output_type": "stream",
     "text": [
      "Anamika present? (Y/N): Y\n",
      "Rajiv present? (Y/N): y\n",
      "Tanvee present? (Y/N): y\n"
     ]
    }
   ],
   "source": [
    "attendance_list = students_present(student_list)"
   ]
  },
  {
   "cell_type": "code",
   "execution_count": 67,
   "metadata": {},
   "outputs": [
    {
     "data": {
      "text/plain": [
       "[True, True, True]"
      ]
     },
     "execution_count": 67,
     "metadata": {},
     "output_type": "execute_result"
    }
   ],
   "source": [
    "attendance_list"
   ]
  },
  {
   "cell_type": "code",
   "execution_count": 46,
   "metadata": {},
   "outputs": [
    {
     "name": "stdout",
     "output_type": "stream",
     "text": [
      "Yay! Proceed with the event!\n"
     ]
    }
   ],
   "source": [
    "if all(attendance_list):\n",
    "    print('Yay! Proceed with the event!')\n",
    "else:\n",
    "    print('Noooo! All students are not present!')"
   ]
  },
  {
   "cell_type": "code",
   "execution_count": 47,
   "metadata": {},
   "outputs": [
    {
     "name": "stdout",
     "output_type": "stream",
     "text": [
      "Anamika present? (Y/N): n\n",
      "Rajiv present? (Y/N): y\n",
      "Tanvee present? (Y/N): y\n"
     ]
    }
   ],
   "source": [
    "attendance_list = students_present(student_list)"
   ]
  },
  {
   "cell_type": "code",
   "execution_count": 48,
   "metadata": {},
   "outputs": [
    {
     "data": {
      "text/plain": [
       "[False, True, True]"
      ]
     },
     "execution_count": 48,
     "metadata": {},
     "output_type": "execute_result"
    }
   ],
   "source": [
    "attendance_list"
   ]
  },
  {
   "cell_type": "code",
   "execution_count": 49,
   "metadata": {},
   "outputs": [
    {
     "name": "stdout",
     "output_type": "stream",
     "text": [
      "Noooo! All students are not present!\n"
     ]
    }
   ],
   "source": [
    "if all(attendance_list):\n",
    "    print('Yay! Proceed with the event!')\n",
    "else:\n",
    "    print('Noooo! All students are not present!')"
   ]
  },
  {
   "cell_type": "code",
   "execution_count": 50,
   "metadata": {},
   "outputs": [
    {
     "name": "stdout",
     "output_type": "stream",
     "text": [
      "Yay! Proceed with the event!\n"
     ]
    }
   ],
   "source": [
    "if any(attendance_list):\n",
    "    print('Yay! Proceed with the event!')\n",
    "else:\n",
    "    print('Noooo! All students are not present!')"
   ]
  },
  {
   "cell_type": "markdown",
   "metadata": {},
   "source": [
    "### Bitwise operators: Left shift, Right shift\n",
    "### Built-in function: bin()"
   ]
  },
  {
   "cell_type": "code",
   "execution_count": 58,
   "metadata": {},
   "outputs": [
    {
     "name": "stdout",
     "output_type": "stream",
     "text": [
      "2\n",
      "0b10\n",
      "8\n",
      "0b1000\n",
      "4\n",
      "0b100\n"
     ]
    }
   ],
   "source": [
    "x = 2\n",
    "print(x)\n",
    "bin_x = bin(x)\n",
    "print(bin_x)\n",
    "\n",
    "y = x\n",
    "y = y << 2     # same as: y <<= 2\n",
    "print(y)\n",
    "bin_y = bin(y)\n",
    "print(bin_y)\n",
    "\n",
    "z = y >> 1\n",
    "print(z)\n",
    "bin_z = bin(z)\n",
    "print(bin_z)"
   ]
  },
  {
   "cell_type": "markdown",
   "metadata": {},
   "source": [
    "### Understanding recursion\n",
    "\n",
    "### fribjous: an adjective used to describe something that is fribjous"
   ]
  },
  {
   "cell_type": "code",
   "execution_count": 68,
   "metadata": {},
   "outputs": [],
   "source": [
    "def fib(n):\n",
    "    if n < 2:\n",
    "        return n\n",
    "    else:\n",
    "        return fib(n-1) + fib(n-2)"
   ]
  },
  {
   "cell_type": "code",
   "execution_count": 77,
   "metadata": {},
   "outputs": [],
   "source": [
    "def generate_fibonacci_series(number_count=10):\n",
    "\n",
    "    fib_list=[]\n",
    "\n",
    "    for n in range(number_count):\n",
    "        fib_list.append(fib(n))\n",
    "\n",
    "    return fib_list"
   ]
  },
  {
   "cell_type": "code",
   "execution_count": 78,
   "metadata": {},
   "outputs": [],
   "source": [
    "fibonacci_series = generate_fibonacci_series(20)"
   ]
  },
  {
   "cell_type": "code",
   "execution_count": 79,
   "metadata": {},
   "outputs": [
    {
     "name": "stdout",
     "output_type": "stream",
     "text": [
      "[0, 1, 1, 2, 3, 5, 8, 13, 21, 34, 55, 89, 144, 233, 377, 610, 987, 1597, 2584, 4181]\n"
     ]
    }
   ],
   "source": [
    "print(fibonacci_series)"
   ]
  },
  {
   "cell_type": "markdown",
   "metadata": {},
   "source": [
    "#### Dry run illustration of the above code for n = 0, 1, 2, 3:\n",
    "\n",
    "#### function call: generate_fibonacci_series(20) \n",
    "#### &emsp; number_count: 20\n",
    "#### &emsp; fib_list: []\n",
    "#### &emsp; n = 0\n",
    "#### &emsp; function call: fib(0)\n",
    "#### &emsp;&emsp; return 0\n",
    "#### &emsp; fib_list: [0]\n",
    "#### &emsp; n = 1\n",
    "#### &emsp; function call: fib(1)\n",
    "#### &emsp;&emsp; return 1\n",
    "#### &emsp; fib_list: [0, 1]\n",
    "#### &emsp; n = 2\n",
    "#### &emsp; function call: fib(2)\n",
    "#### &emsp;&emsp; function call: fib(1)\n",
    "#### &emsp;&emsp;&emsp; return 1\n",
    "#### &emsp;&emsp; function call: fib(0)\n",
    "#### &emsp;&emsp;&emsp; return 0\n",
    "#### &emsp;&emsp; return (1 + 0)\n",
    "#### &emsp; fib_list: [0, 1, 1]\n",
    "#### &emsp; n = 3\n",
    "#### &emsp; function call: fib(3)\n",
    "#### &emsp;&emsp; function call: fib(2)\n",
    "#### &emsp;&emsp;&emsp; function call: fib(1)\n",
    "#### &emsp;&emsp;&emsp;&emsp; return 1\n",
    "#### &emsp;&emsp;&emsp; function call: fib(0)\n",
    "#### &emsp;&emsp;&emsp;&emsp; return 0\n",
    "#### &emsp;&emsp;&emsp; return (1 + 0)\n",
    "#### &emsp;&emsp; function call: fib(1)\n",
    "#### &emsp;&emsp;&emsp; return 1\n",
    "#### &emsp;&emsp; return (1 + 1)\n",
    "#### &emsp; fib_list: [0, 1, 1, 2]"
   ]
  }
 ],
 "metadata": {
  "kernelspec": {
   "display_name": "Python 3",
   "language": "python",
   "name": "python3"
  },
  "language_info": {
   "codemirror_mode": {
    "name": "ipython",
    "version": 3
   },
   "file_extension": ".py",
   "mimetype": "text/x-python",
   "name": "python",
   "nbconvert_exporter": "python",
   "pygments_lexer": "ipython3",
   "version": "3.7.4"
  }
 },
 "nbformat": 4,
 "nbformat_minor": 2
}
