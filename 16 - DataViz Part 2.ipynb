{
 "cells": [
  {
   "cell_type": "markdown",
   "metadata": {},
   "source": [
    "### The following exercise is adapted from the AmEx 2019 Hackathon"
   ]
  },
  {
   "cell_type": "code",
   "execution_count": 1,
   "metadata": {},
   "outputs": [],
   "source": [
    "import pandas as pd"
   ]
  },
  {
   "cell_type": "code",
   "execution_count": 2,
   "metadata": {},
   "outputs": [],
   "source": [
    "train_data_path = '/home/ngarg/Documents/work/Freelancing/VDS/ref/amex/data/train.csv'\n",
    "item_data_path = '/home/ngarg/Documents/work/Freelancing/VDS/ref/amex/data/item_data.csv'\n",
    "customer_transaction_data_path = '/home/ngarg/Documents/work/Freelancing/VDS/ref/amex/data/customer_transaction_data.csv'\n",
    "customer_demographics_data_path = '/home/ngarg/Documents/work/Freelancing/VDS/ref/amex/data/customer_demographics.csv'\n",
    "coupon_item_mapping_data_path = '/home/ngarg/Documents/work/Freelancing/VDS/ref/amex/data/coupon_item_mapping.csv'\n",
    "campaign_data_path = '/home/ngarg/Documents/work/Freelancing/VDS/ref/amex/data/campaign_data.csv'\n",
    "\n",
    "train_raw_data = pd.read_csv(train_data_path)\n",
    "item_raw_data = pd.read_csv(item_data_path)\n",
    "ct_raw_data = pd.read_csv(customer_transaction_data_path)\n",
    "cd_raw_data = pd.read_csv(customer_demographics_data_path)\n",
    "cim_raw_data = pd.read_csv(coupon_item_mapping_data_path)\n",
    "campaign_raw_data = pd.read_csv(campaign_data_path)"
   ]
  },
  {
   "cell_type": "markdown",
   "metadata": {},
   "source": [
    "#### store datasets in a list of tuples, where each tuple has the dataset name and the dataframe"
   ]
  },
  {
   "cell_type": "code",
   "execution_count": 3,
   "metadata": {},
   "outputs": [],
   "source": [
    "raw_datasets = [('train', train_raw_data), ('item', item_raw_data), ('cust trans', ct_raw_data), \n",
    "                ('cust demog', cd_raw_data), ('coup-item', cim_raw_data), ('campaign', campaign_raw_data)]"
   ]
  },
  {
   "cell_type": "markdown",
   "metadata": {},
   "source": [
    "### EDA"
   ]
  },
  {
   "cell_type": "code",
   "execution_count": 4,
   "metadata": {},
   "outputs": [
    {
     "name": "stdout",
     "output_type": "stream",
     "text": [
      "dataset        train has    78369 rows and   5 columns\n",
      "dataset         item has    74066 rows and   4 columns\n",
      "dataset   cust trans has  1324566 rows and   7 columns\n",
      "dataset   cust demog has      760 rows and   7 columns\n",
      "dataset    coup-item has    92663 rows and   2 columns\n",
      "dataset     campaign has       28 rows and   4 columns\n"
     ]
    },
    {
     "data": {
      "text/plain": [
       "[None, None, None, None, None, None]"
      ]
     },
     "execution_count": 4,
     "metadata": {},
     "output_type": "execute_result"
    }
   ],
   "source": [
    "[print('dataset {:>12} has {:>8} rows and {:>3} columns'.format(dataset_name, \n",
    "                                                                dataset.shape[0], \n",
    "                                                                dataset.shape[1])\n",
    "      ) for dataset_name, dataset in raw_datasets]"
   ]
  },
  {
   "cell_type": "code",
   "execution_count": 5,
   "metadata": {},
   "outputs": [
    {
     "name": "stdout",
     "output_type": "stream",
     "text": [
      "\n",
      " train :\n",
      "    id  campaign_id  coupon_id  customer_id  redemption_status\n",
      "0   1           13         27         1053                  0\n",
      "\n",
      " item :\n",
      "    item_id  brand   brand_type category\n",
      "0        1      1  Established  Grocery\n",
      "\n",
      " cust trans :\n",
      "          date  customer_id  item_id  quantity  selling_price  other_discount  coupon_discount\n",
      "0  2012-01-02         1501    26830         1          35.26          -10.69              0.0\n",
      "\n",
      " cust demog :\n",
      "    customer_id age_range marital_status  rented family_size no_of_children  income_bracket\n",
      "0            1       70+        Married       0           2            NaN               4\n",
      "\n",
      " coup-item :\n",
      "    coupon_id  item_id\n",
      "0        105       37\n",
      "\n",
      " campaign :\n",
      "    campaign_id campaign_type start_date  end_date\n",
      "0           24             Y   21/10/13  20/12/13\n"
     ]
    },
    {
     "data": {
      "text/plain": [
       "[None, None, None, None, None, None]"
      ]
     },
     "execution_count": 5,
     "metadata": {},
     "output_type": "execute_result"
    }
   ],
   "source": [
    "[print('\\n', dataset_name, ':\\n', dataset.head(1).to_string()) for dataset_name, dataset in raw_datasets]"
   ]
  },
  {
   "cell_type": "markdown",
   "metadata": {},
   "source": [
    "#### In the above 2 cells, you see [None, None, None, None, None, None] additionally in the output. The reason is we are using list comprehension and not storing anything in the list, so when it finishes processing the 6 items in the list 'raw_datasets', it returns a list with 6 'None' values. "
   ]
  },
  {
   "cell_type": "markdown",
   "metadata": {},
   "source": [
    "#### It's pretty lame to use list comprehension for this purpose. Following is a better way to do it."
   ]
  },
  {
   "cell_type": "code",
   "execution_count": 6,
   "metadata": {},
   "outputs": [
    {
     "name": "stdout",
     "output_type": "stream",
     "text": [
      "Dataset  1  -  train :\n",
      "    id  campaign_id  coupon_id  customer_id  redemption_status\n",
      "0   1           13         27         1053                  0 \n",
      "\n",
      "Dataset  2  -  item :\n",
      "    item_id  brand   brand_type category\n",
      "0        1      1  Established  Grocery \n",
      "\n",
      "Dataset  3  -  cust trans :\n",
      "          date  customer_id  item_id  quantity  selling_price  other_discount  coupon_discount\n",
      "0  2012-01-02         1501    26830         1          35.26          -10.69              0.0 \n",
      "\n",
      "Dataset  4  -  cust demog :\n",
      "    customer_id age_range marital_status  rented family_size no_of_children  income_bracket\n",
      "0            1       70+        Married       0           2            NaN               4 \n",
      "\n",
      "Dataset  5  -  coup-item :\n",
      "    coupon_id  item_id\n",
      "0        105       37 \n",
      "\n",
      "Dataset  6  -  campaign :\n",
      "    campaign_id campaign_type start_date  end_date\n",
      "0           24             Y   21/10/13  20/12/13 \n",
      "\n"
     ]
    }
   ],
   "source": [
    "i = 1\n",
    "for dataset_name, dataset in raw_datasets:\n",
    "    print('Dataset ', i, ' - ', dataset_name, ':\\n', dataset.head(1).to_string(), '\\n')\n",
    "    i += 1"
   ]
  },
  {
   "cell_type": "markdown",
   "metadata": {},
   "source": [
    "### Multiple histograms using Pandas hist() method"
   ]
  },
  {
   "cell_type": "code",
   "execution_count": 7,
   "metadata": {},
   "outputs": [
    {
     "data": {
      "text/plain": [
       "array([[<matplotlib.axes._subplots.AxesSubplot object at 0x7f72c2bd6250>,\n",
       "        <matplotlib.axes._subplots.AxesSubplot object at 0x7f72c26bdf90>],\n",
       "       [<matplotlib.axes._subplots.AxesSubplot object at 0x7f72c2239a90>,\n",
       "        <matplotlib.axes._subplots.AxesSubplot object at 0x7f72c21ef390>],\n",
       "       [<matplotlib.axes._subplots.AxesSubplot object at 0x7f72c219ac90>,\n",
       "        <matplotlib.axes._subplots.AxesSubplot object at 0x7f72c214d2d0>]],\n",
       "      dtype=object)"
      ]
     },
     "execution_count": 7,
     "metadata": {},
     "output_type": "execute_result"
    },
    {
     "data": {
      "image/png": "[encoded data removed]",
      "text/plain": [
       "<Figure size 432x288 with 6 Axes>"
      ]
     },
     "metadata": {
      "needs_background": "light"
     },
     "output_type": "display_data"
    }
   ],
   "source": [
    "%matplotlib inline\n",
    "train_raw_data.hist()"
   ]
  },
  {
   "cell_type": "markdown",
   "metadata": {},
   "source": [
    "### Multiple histograms using Matplotlib"
   ]
  },
  {
   "cell_type": "code",
   "execution_count": 8,
   "metadata": {},
   "outputs": [],
   "source": [
    "import matplotlib.pyplot as plt"
   ]
  },
  {
   "cell_type": "code",
   "execution_count": 9,
   "metadata": {},
   "outputs": [
    {
     "data": {
      "text/plain": [
       "<matplotlib.axes._subplots.AxesSubplot at 0x7f72c1f11950>"
      ]
     },
     "execution_count": 9,
     "metadata": {},
     "output_type": "execute_result"
    },
    {
     "data": {
      "image/png": "[encoded data removed]",
      "text/plain": [
       "<Figure size 720x720 with 4 Axes>"
      ]
     },
     "metadata": {
      "needs_background": "light"
     },
     "output_type": "display_data"
    }
   ],
   "source": [
    "fig, axes = plt.subplots(nrows=2, ncols=2, figsize=(10,10))\n",
    "fig.tight_layout(pad=5.0)\n",
    "train_raw_data.campaign_id.plot(kind='hist', ax=axes[0, 0])\n",
    "train_raw_data.coupon_id.plot(kind='hist', ax=axes[0, 1])\n",
    "train_raw_data.customer_id.plot(kind='hist', ax=axes[1, 0])\n",
    "train_raw_data.redemption_status.plot(kind='hist', ax=axes[1, 1])"
   ]
  },
  {
   "cell_type": "code",
   "execution_count": 10,
   "metadata": {},
   "outputs": [
    {
     "data": {
      "text/plain": [
       "<matplotlib.axes._subplots.AxesSubplot at 0x7f72c1d10610>"
      ]
     },
     "execution_count": 10,
     "metadata": {},
     "output_type": "execute_result"
    },
    {
     "data": {
      "image/png": "[encoded data removed]",
      "text/plain": [
       "<Figure size 720x720 with 4 Axes>"
      ]
     },
     "metadata": {
      "needs_background": "light"
     },
     "output_type": "display_data"
    }
   ],
   "source": [
    "fig2, axes2 = plt.subplots(nrows=2, ncols=2, figsize=(10,10))\n",
    "fig2.tight_layout(pad=5.0)\n",
    "ct_raw_data.customer_id.plot(kind='hist', ax=axes2[0, 0])\n",
    "ct_raw_data.item_id.plot(kind='hist', ax=axes2[0, 1])\n",
    "ct_raw_data.quantity.plot(kind='hist', ax=axes2[1, 0])\n",
    "ct_raw_data.selling_price.plot(kind='hist', ax=axes2[1, 1])"
   ]
  },
  {
   "cell_type": "markdown",
   "metadata": {},
   "source": [
    "### Heatmap for correlations in a slice of ct_raw_data"
   ]
  },
  {
   "cell_type": "code",
   "execution_count": 11,
   "metadata": {},
   "outputs": [
    {
     "data": {
      "text/html": [
       "<div>\n",
       "<style scoped>\n",
       "    .dataframe tbody tr th:only-of-type {\n",
       "        vertical-align: middle;\n",
       "    }\n",
       "\n",
       "    .dataframe tbody tr th {\n",
       "        vertical-align: top;\n",
       "    }\n",
       "\n",
       "    .dataframe thead th {\n",
       "        text-align: right;\n",
       "    }\n",
       "</style>\n",
       "<table border=\"1\" class=\"dataframe\">\n",
       "  <thead>\n",
       "    <tr style=\"text-align: right;\">\n",
       "      <th></th>\n",
       "      <th>customer_id</th>\n",
       "      <th>item_id</th>\n",
       "      <th>quantity</th>\n",
       "      <th>selling_price</th>\n",
       "    </tr>\n",
       "  </thead>\n",
       "  <tbody>\n",
       "    <tr>\n",
       "      <th>customer_id</th>\n",
       "      <td>1.000000</td>\n",
       "      <td>0.002864</td>\n",
       "      <td>0.000016</td>\n",
       "      <td>0.004312</td>\n",
       "    </tr>\n",
       "    <tr>\n",
       "      <th>item_id</th>\n",
       "      <td>0.002864</td>\n",
       "      <td>1.000000</td>\n",
       "      <td>0.105149</td>\n",
       "      <td>0.126384</td>\n",
       "    </tr>\n",
       "    <tr>\n",
       "      <th>quantity</th>\n",
       "      <td>0.000016</td>\n",
       "      <td>0.105149</td>\n",
       "      <td>1.000000</td>\n",
       "      <td>0.672741</td>\n",
       "    </tr>\n",
       "    <tr>\n",
       "      <th>selling_price</th>\n",
       "      <td>0.004312</td>\n",
       "      <td>0.126384</td>\n",
       "      <td>0.672741</td>\n",
       "      <td>1.000000</td>\n",
       "    </tr>\n",
       "  </tbody>\n",
       "</table>\n",
       "</div>"
      ],
      "text/plain": [
       "               customer_id   item_id  quantity  selling_price\n",
       "customer_id       1.000000  0.002864  0.000016       0.004312\n",
       "item_id           0.002864  1.000000  0.105149       0.126384\n",
       "quantity          0.000016  0.105149  1.000000       0.672741\n",
       "selling_price     0.004312  0.126384  0.672741       1.000000"
      ]
     },
     "execution_count": 11,
     "metadata": {},
     "output_type": "execute_result"
    }
   ],
   "source": [
    "heatmap_data = ct_raw_data[['customer_id', 'item_id', 'quantity', 'selling_price']].corr()\n",
    "heatmap_data"
   ]
  },
  {
   "cell_type": "code",
   "execution_count": 12,
   "metadata": {},
   "outputs": [
    {
     "data": {
      "image/png": "[encoded data removed]",
      "text/plain": [
       "<Figure size 432x288 with 1 Axes>"
      ]
     },
     "metadata": {
      "needs_background": "light"
     },
     "output_type": "display_data"
    }
   ],
   "source": [
    "plt.imshow(heatmap_data)\n",
    "plt.show()"
   ]
  },
  {
   "cell_type": "markdown",
   "metadata": {},
   "source": [
    "#### improving the above heatmap"
   ]
  },
  {
   "cell_type": "code",
   "execution_count": 13,
   "metadata": {},
   "outputs": [
    {
     "data": {
      "image/png": "[encoded data removed]",
      "text/plain": [
       "<Figure size 432x288 with 2 Axes>"
      ]
     },
     "metadata": {
      "needs_background": "light"
     },
     "output_type": "display_data"
    }
   ],
   "source": [
    "plt.imshow(heatmap_data, cmap='plasma')\n",
    "plt.colorbar()\n",
    "plt.xticks(range(len(heatmap_data)),heatmap_data.columns, rotation=20)\n",
    "plt.yticks(range(len(heatmap_data)),heatmap_data.index)\n",
    "plt.show()"
   ]
  }
 ],
 "metadata": {
  "kernelspec": {
   "display_name": "Python 3",
   "language": "python",
   "name": "python3"
  },
  "language_info": {
   "codemirror_mode": {
    "name": "ipython",
    "version": 3
   },
   "file_extension": ".py",
   "mimetype": "text/x-python",
   "name": "python",
   "nbconvert_exporter": "python",
   "pygments_lexer": "ipython3",
   "version": "3.8.2"
  }
 },
 "nbformat": 4,
 "nbformat_minor": 2
}
