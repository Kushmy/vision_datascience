{
 "cells": [
  {
   "cell_type": "markdown",
   "metadata": {},
   "source": [
    "## Problem Statement\n",
    "\n",
    "We want to check students' progress about learning Python coding, and provide appropriate recomendations"
   ]
  },
  {
   "cell_type": "markdown",
   "metadata": {},
   "source": [
    "### create a simple dictionary to represent out dataset"
   ]
  },
  {
   "cell_type": "code",
   "execution_count": 3,
   "metadata": {},
   "outputs": [],
   "source": [
    "students_dataset = {'Harish': 10,\n",
    "                    'Akash': 12,\n",
    "                    'Hemanth': 11,\n",
    "                    'Nadhini': 12}    # progress is a number in the range of 0 to 15 "
   ]
  },
  {
   "cell_type": "markdown",
   "metadata": {},
   "source": [
    "### demonstration of what is returned by dictionary method 'items()'"
   ]
  },
  {
   "cell_type": "code",
   "execution_count": null,
   "metadata": {},
   "outputs": [],
   "source": [
    "students_dataset_list_of_tuples = [('Harish', 10), ('Akash', 12), ('Hemanth', 11), ('Nadhini', 12)]"
   ]
  },
  {
   "cell_type": "code",
   "execution_count": 5,
   "metadata": {},
   "outputs": [
    {
     "data": {
      "text/plain": [
       "dict_items([('Harish', 10), ('Akash', 12), ('Hemanth', 11), ('Nadhini', 12)])"
      ]
     },
     "execution_count": 5,
     "metadata": {},
     "output_type": "execute_result"
    }
   ],
   "source": [
    "students_dataset.items()"
   ]
  },
  {
   "cell_type": "markdown",
   "metadata": {},
   "source": [
    "### 'for' loop\n",
    "### using dictionary method 'items()'"
   ]
  },
  {
   "cell_type": "code",
   "execution_count": 4,
   "metadata": {},
   "outputs": [
    {
     "name": "stdout",
     "output_type": "stream",
     "text": [
      "You are making some progress but you need to put in some more work, Harish!\n",
      "Great to see to catching up so well Akash, keep it up!\n",
      "Great to see to catching up so well Hemanth, keep it up!\n",
      "Great to see to catching up so well Nadhini, keep it up!\n"
     ]
    }
   ],
   "source": [
    "for student_name, student_value in students_dataset.items():\n",
    "    \n",
    "    if student_value < 2:   # 0 and 1\n",
    "        rec = 'You need to pull up your socks, {}!'.format(student_name)\n",
    "        \n",
    "    elif (student_value < 6):  # 2 to 5\n",
    "        rec = 'Good to see you get started with Python coding {}, please practice the problems in homework set 1!'.format(student_name)\n",
    "    \n",
    "    elif student_value < 11:  # 6 to 10\n",
    "        rec = 'You are making some progress but you need to put in some more work, {}!'.format(student_name)\n",
    "    \n",
    "    else:   # >= 11\n",
    "        rec = 'Great to see to catching up so well {}, keep it up!'.format(student_name)\n",
    "    \n",
    "    print(rec)"
   ]
  },
  {
   "cell_type": "markdown",
   "metadata": {},
   "source": [
    "### nested dictionary"
   ]
  },
  {
   "cell_type": "code",
   "execution_count": 6,
   "metadata": {},
   "outputs": [],
   "source": [
    "students_dataset_2 = {'Harish': {'variables': 14, 'lists': 7, 'dicts': 5},\n",
    "                      'Akash': {'variables': 13, 'lists': 8, 'dicts': 9},\n",
    "                      'Hemanth': {'variables': 10, 'lists': 7, 'dicts': 4},\n",
    "                      'Nadhini': {'variables': 14, 'lists': 9, 'dicts': 7}}"
   ]
  },
  {
   "cell_type": "markdown",
   "metadata": {},
   "source": [
    "### using dictionary method 'values()'\n",
    "### combining multiple conditions using 'and' keyword"
   ]
  },
  {
   "cell_type": "code",
   "execution_count": 8,
   "metadata": {},
   "outputs": [
    {
     "name": "stdout",
     "output_type": "stream",
     "text": [
      "Great to see to catching up so well Harish, keep it up! Please do go thru the advanced reading material and exercises\n",
      "Great to see to catching up so well Akash, keep it up! Please do go thru the advanced reading material and exercises\n",
      "You are making some good progress Hemanth, please practice the problems in homework set 3 and go through the additional reading material set 1!\n",
      "Great to see to catching up so well Nadhini, keep it up! Please do go thru the advanced reading material and exercises\n"
     ]
    }
   ],
   "source": [
    "for student_name, student_value in students_dataset_2.items():\n",
    "    \n",
    "    variables_value, lists_value, dicts_value = student_value.values()\n",
    "    \n",
    "    if (variables_value < 4) and (lists_value < 2) and (dicts_value < 2):   \n",
    "        rec = 'You need to really pull up your socks, {}!'.format(student_name)\n",
    "        \n",
    "    elif (variables_value < 8) and (lists_value < 5) and (dicts_value < 4):  \n",
    "        rec = 'Good to see you get started with Python coding {}, please practice the problems in homework set 1!'.format(student_name)\n",
    "    \n",
    "    elif (variables_value < 8) and (lists_value < 8) and (dicts_value < 8):  \n",
    "        rec = 'Good to see you understanding the basics of variables, lists and dicts {}, please practice the problems in homework set 2!'.format(student_name)\n",
    "    \n",
    "    elif (variables_value < 12) and (lists_value < 12) and (dicts_value < 12):  \n",
    "        rec = 'You are making some good progress {}, please practice the problems in homework set 3 and go through the additional reading material set 1!'.format(student_name)\n",
    "    \n",
    "    else:  \n",
    "        rec = 'Great to see to catching up so well {}, keep it up! Please do go thru the advanced reading material and exercises'.format(student_name)\n",
    "    \n",
    "    print(rec)"
   ]
  }
 ],
 "metadata": {
  "kernelspec": {
   "display_name": "Python 3",
   "language": "python",
   "name": "python3"
  },
  "language_info": {
   "codemirror_mode": {
    "name": "ipython",
    "version": 3
   },
   "file_extension": ".py",
   "mimetype": "text/x-python",
   "name": "python",
   "nbconvert_exporter": "python",
   "pygments_lexer": "ipython3",
   "version": "3.7.4"
  }
 },
 "nbformat": 4,
 "nbformat_minor": 2
}
