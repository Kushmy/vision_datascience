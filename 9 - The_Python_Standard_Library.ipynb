{
 "cells": [
  {
   "cell_type": "markdown",
   "metadata": {},
   "source": [
    "### Fun with strings! (string methods)"
   ]
  },
  {
   "cell_type": "markdown",
   "metadata": {},
   "source": [
    "#### String concatenation using the + operator"
   ]
  },
  {
   "cell_type": "code",
   "execution_count": 1,
   "metadata": {},
   "outputs": [],
   "source": [
    "student_name = 'John'"
   ]
  },
  {
   "cell_type": "code",
   "execution_count": 2,
   "metadata": {},
   "outputs": [
    {
     "data": {
      "text/plain": [
       "'John'"
      ]
     },
     "execution_count": 2,
     "metadata": {},
     "output_type": "execute_result"
    }
   ],
   "source": [
    "student_name"
   ]
  },
  {
   "cell_type": "code",
   "execution_count": 3,
   "metadata": {},
   "outputs": [],
   "source": [
    "student_name += ' Rambo'"
   ]
  },
  {
   "cell_type": "code",
   "execution_count": 4,
   "metadata": {},
   "outputs": [
    {
     "data": {
      "text/plain": [
       "'John Rambo'"
      ]
     },
     "execution_count": 4,
     "metadata": {},
     "output_type": "execute_result"
    }
   ],
   "source": [
    "student_name"
   ]
  },
  {
   "cell_type": "markdown",
   "metadata": {},
   "source": [
    "#### Example 1: using split() and strip() methods\n",
    "\n",
    "#### Input: A list of strings, each string is the name of a student in the format of 'last_name, first_name'\n",
    "    \n",
    "#### Ouput: A list of tuples, each tuple containing the folowing: ('id', 'first_name', 'last_name')"
   ]
  },
  {
   "cell_type": "code",
   "execution_count": 5,
   "metadata": {},
   "outputs": [],
   "source": [
    "student_list = ['Rambo, John', 'S, Apurva', 'B, Gauda', 'Kukarni, Anita', 'K, Pravin']"
   ]
  },
  {
   "cell_type": "code",
   "execution_count": 6,
   "metadata": {},
   "outputs": [],
   "source": [
    "output_list = []\n",
    "id_indices = {}\n",
    "\n",
    "for student in student_list:\n",
    "    \n",
    "    last_name, first_name = student.split(',')\n",
    "    id_char = last_name[0]\n",
    "    #print(id_indices)\n",
    "    \n",
    "    if id_char not in id_indices.keys():\n",
    "        id_indices[id_char] = 1\n",
    "        \n",
    "    student_id = last_name[0] + str(id_indices[id_char])\n",
    "    id_indices[id_char] += 1\n",
    "    \n",
    "    output_list.append((student_id, first_name.strip(), last_name.strip()))"
   ]
  },
  {
   "cell_type": "code",
   "execution_count": 7,
   "metadata": {},
   "outputs": [
    {
     "data": {
      "text/plain": [
       "[('R1', 'John', 'Rambo'),\n",
       " ('S1', 'Apurva', 'S'),\n",
       " ('B1', 'Gauda', 'B'),\n",
       " ('K1', 'Anita', 'Kukarni'),\n",
       " ('K2', 'Pravin', 'K')]"
      ]
     },
     "execution_count": 7,
     "metadata": {},
     "output_type": "execute_result"
    }
   ],
   "source": [
    "output_list"
   ]
  },
  {
   "cell_type": "markdown",
   "metadata": {},
   "source": [
    "#### Example 2: using reverse() and join() methods\n",
    "\n",
    "#### Input: A list of strings, each string is the name of a student in the format of 'last_name, first_name'\n",
    "    \n",
    "#### Ouput: A list of strings, each string in the following format: 'id - first_name last_name'"
   ]
  },
  {
   "cell_type": "code",
   "execution_count": 8,
   "metadata": {},
   "outputs": [],
   "source": [
    "output_list = []\n",
    "id_indices = {}\n",
    "\n",
    "for student in student_list:\n",
    "    \n",
    "    name_parts = student.split(',')\n",
    "    name_parts.reverse()\n",
    "    id_char = name_parts[1][0]\n",
    "    #print(id_char)\n",
    "    \n",
    "    if id_char not in id_indices.keys():\n",
    "        id_indices[id_char] = 1\n",
    "        \n",
    "    student_id = id_char + str(id_indices[id_char])\n",
    "    id_indices[id_char] += 1\n",
    "    \n",
    "    output_string = ' '\n",
    "    output_string = student_id + ' -' + output_string.join(name_parts)\n",
    "    \n",
    "    output_list.append(output_string)"
   ]
  },
  {
   "cell_type": "code",
   "execution_count": 9,
   "metadata": {},
   "outputs": [
    {
     "data": {
      "text/plain": [
       "['R1 - John Rambo',\n",
       " 'S1 - Apurva S',\n",
       " 'B1 - Gauda B',\n",
       " 'K1 - Anita Kukarni',\n",
       " 'K2 - Pravin K']"
      ]
     },
     "execution_count": 9,
     "metadata": {},
     "output_type": "execute_result"
    }
   ],
   "source": [
    "output_list"
   ]
  },
  {
   "cell_type": "markdown",
   "metadata": {},
   "source": [
    "#### Extracting text-segments from a paragraph (segments are parts seperated by a punctuation symbol)"
   ]
  },
  {
   "cell_type": "code",
   "execution_count": 10,
   "metadata": {},
   "outputs": [],
   "source": [
    "import string"
   ]
  },
  {
   "cell_type": "code",
   "execution_count": 11,
   "metadata": {},
   "outputs": [
    {
     "data": {
      "text/plain": [
       "'!\"#$%&\\'()*+,-./:;<=>?@[\\\\]^_`{|}~'"
      ]
     },
     "execution_count": 11,
     "metadata": {},
     "output_type": "execute_result"
    }
   ],
   "source": [
    "string.punctuation"
   ]
  },
  {
   "cell_type": "code",
   "execution_count": 12,
   "metadata": {},
   "outputs": [],
   "source": [
    "raw_text = 'Python’s standard library is very extensive, offering a wide range of facilities as indicated by the long table of contents listed below. The library contains built-in modules (written in C) that provide access to system functionality such as file I/O that would otherwise be inaccessible to Python programmers, as well as modules written in Python that provide standardized solutions: for many problems that occur in everyday programming. Some of these modules are explicitly designed to: encourage and enhance the portability of Python programs by abstracting away platform-specifics into platform-neutral APIs.'"
   ]
  },
  {
   "cell_type": "code",
   "execution_count": 13,
   "metadata": {},
   "outputs": [
    {
     "data": {
      "text/plain": [
       "'Python’s standard library is very extensive, offering a wide range of facilities as indicated by the long table of contents listed below. The library contains built-in modules (written in C) that provide access to system functionality such as file I/O that would otherwise be inaccessible to Python programmers, as well as modules written in Python that provide standardized solutions: for many problems that occur in everyday programming. Some of these modules are explicitly designed to: encourage and enhance the portability of Python programs by abstracting away platform-specifics into platform-neutral APIs.'"
      ]
     },
     "execution_count": 13,
     "metadata": {},
     "output_type": "execute_result"
    }
   ],
   "source": [
    "raw_text"
   ]
  },
  {
   "cell_type": "code",
   "execution_count": 14,
   "metadata": {},
   "outputs": [],
   "source": [
    "modified_text = raw_text\n",
    "for punct_char in string.punctuation:\n",
    "    modified_text = modified_text.replace(punct_char, ',')"
   ]
  },
  {
   "cell_type": "code",
   "execution_count": 15,
   "metadata": {},
   "outputs": [
    {
     "data": {
      "text/plain": [
       "'Python’s standard library is very extensive, offering a wide range of facilities as indicated by the long table of contents listed below, The library contains built,in modules ,written in C, that provide access to system functionality such as file I,O that would otherwise be inaccessible to Python programmers, as well as modules written in Python that provide standardized solutions, for many problems that occur in everyday programming, Some of these modules are explicitly designed to, encourage and enhance the portability of Python programs by abstracting away platform,specifics into platform,neutral APIs,'"
      ]
     },
     "execution_count": 15,
     "metadata": {},
     "output_type": "execute_result"
    }
   ],
   "source": [
    "modified_text"
   ]
  },
  {
   "cell_type": "code",
   "execution_count": 16,
   "metadata": {},
   "outputs": [],
   "source": [
    "text_parts = modified_text.split(',')"
   ]
  },
  {
   "cell_type": "code",
   "execution_count": 17,
   "metadata": {},
   "outputs": [
    {
     "data": {
      "text/plain": [
       "['Python’s standard library is very extensive',\n",
       " ' offering a wide range of facilities as indicated by the long table of contents listed below',\n",
       " ' The library contains built',\n",
       " 'in modules ',\n",
       " 'written in C',\n",
       " ' that provide access to system functionality such as file I',\n",
       " 'O that would otherwise be inaccessible to Python programmers',\n",
       " ' as well as modules written in Python that provide standardized solutions',\n",
       " ' for many problems that occur in everyday programming',\n",
       " ' Some of these modules are explicitly designed to',\n",
       " ' encourage and enhance the portability of Python programs by abstracting away platform',\n",
       " 'specifics into platform',\n",
       " 'neutral APIs',\n",
       " '']"
      ]
     },
     "execution_count": 17,
     "metadata": {},
     "output_type": "execute_result"
    }
   ],
   "source": [
    "text_parts"
   ]
  },
  {
   "cell_type": "markdown",
   "metadata": {},
   "source": [
    "#### Center-alignment of string using padding"
   ]
  },
  {
   "cell_type": "code",
   "execution_count": 18,
   "metadata": {},
   "outputs": [
    {
     "name": "stdout",
     "output_type": "stream",
     "text": [
      "                        Python’s standard library is very extensive                         \n",
      " offering a wide range of facilities as indicated by the long table of contents listed below\n",
      "                                 The library contains built                                 \n",
      "                                        in modules                                          \n",
      "                                        written in C                                        \n",
      "                 that provide access to system functionality such as file I                 \n",
      "                O that would otherwise be inaccessible to Python programmers                \n",
      "          as well as modules written in Python that provide standardized solutions          \n",
      "                    for many problems that occur in everyday programming                    \n",
      "                      Some of these modules are explicitly designed to                      \n",
      "    encourage and enhance the portability of Python programs by abstracting away platform   \n",
      "                                  specifics into platform                                   \n",
      "                                        neutral APIs                                        \n",
      "                                                                                            \n"
     ]
    }
   ],
   "source": [
    "max_length = max(map(len, text_parts))\n",
    "for text_part in text_parts:\n",
    "    text_part_length = len(text_part)\n",
    "    print(text_part.center(max_length))"
   ]
  },
  {
   "cell_type": "markdown",
   "metadata": {},
   "source": [
    "#### Finding all indices of a sub-string in a string"
   ]
  },
  {
   "cell_type": "code",
   "execution_count": 19,
   "metadata": {},
   "outputs": [
    {
     "data": {
      "text/plain": [
       "'Python’s standard library is very extensive, offering a wide range of facilities as indicated by the long table of contents listed below. The library contains built-in modules (written in C) that provide access to system functionality such as file I/O that would otherwise be inaccessible to Python programmers, as well as modules written in Python that provide standardized solutions: for many problems that occur in everyday programming. Some of these modules are explicitly designed to: encourage and enhance the portability of Python programs by abstracting away platform-specifics into platform-neutral APIs.'"
      ]
     },
     "execution_count": 19,
     "metadata": {},
     "output_type": "execute_result"
    }
   ],
   "source": [
    "raw_text"
   ]
  },
  {
   "cell_type": "code",
   "execution_count": 20,
   "metadata": {},
   "outputs": [],
   "source": [
    "word_index_list = []\n",
    "word = 'Python'\n",
    "\n",
    "word_index = raw_text.find(word)\n",
    "while word_index != -1:\n",
    "    word_index_list.append(word_index)\n",
    "    word_index = raw_text.find(word, word_index + len(word))"
   ]
  },
  {
   "cell_type": "code",
   "execution_count": 21,
   "metadata": {},
   "outputs": [
    {
     "data": {
      "text/plain": [
       "[0, 292, 342, 531]"
      ]
     },
     "execution_count": 21,
     "metadata": {},
     "output_type": "execute_result"
    }
   ],
   "source": [
    "word_index_list"
   ]
  },
  {
   "cell_type": "markdown",
   "metadata": {},
   "source": [
    "### Module: datetime\n",
    "\n",
    "#### datetime.now(), datetime.date(), datetime.time(), datetime.strptime(), datetime.timedelta, timedelta.total_seconds()"
   ]
  },
  {
   "cell_type": "code",
   "execution_count": 22,
   "metadata": {},
   "outputs": [],
   "source": [
    "import datetime"
   ]
  },
  {
   "cell_type": "code",
   "execution_count": 23,
   "metadata": {},
   "outputs": [],
   "source": [
    "date_time_now = datetime.datetime.now()"
   ]
  },
  {
   "cell_type": "code",
   "execution_count": 24,
   "metadata": {},
   "outputs": [
    {
     "data": {
      "text/plain": [
       "datetime.datetime(2020, 1, 25, 23, 45, 57, 779450)"
      ]
     },
     "execution_count": 24,
     "metadata": {},
     "output_type": "execute_result"
    }
   ],
   "source": [
    "date_time_now"
   ]
  },
  {
   "cell_type": "code",
   "execution_count": 25,
   "metadata": {},
   "outputs": [],
   "source": [
    "date_today = date_time_now.date()"
   ]
  },
  {
   "cell_type": "code",
   "execution_count": 26,
   "metadata": {},
   "outputs": [
    {
     "data": {
      "text/plain": [
       "datetime.date(2020, 1, 25)"
      ]
     },
     "execution_count": 26,
     "metadata": {},
     "output_type": "execute_result"
    }
   ],
   "source": [
    "date_today"
   ]
  },
  {
   "cell_type": "code",
   "execution_count": 27,
   "metadata": {},
   "outputs": [],
   "source": [
    "time_now = date_time_now.time()"
   ]
  },
  {
   "cell_type": "code",
   "execution_count": 28,
   "metadata": {},
   "outputs": [
    {
     "data": {
      "text/plain": [
       "datetime.time(23, 45, 57, 779450)"
      ]
     },
     "execution_count": 28,
     "metadata": {},
     "output_type": "execute_result"
    }
   ],
   "source": [
    "time_now"
   ]
  },
  {
   "cell_type": "code",
   "execution_count": 29,
   "metadata": {},
   "outputs": [],
   "source": [
    "future_date_time = datetime.datetime.strptime('27 Jan, 2022 13:10:12', '%d %b, %Y %H:%M:%S')"
   ]
  },
  {
   "cell_type": "code",
   "execution_count": 30,
   "metadata": {},
   "outputs": [
    {
     "data": {
      "text/plain": [
       "datetime.datetime(2022, 1, 27, 13, 10, 12)"
      ]
     },
     "execution_count": 30,
     "metadata": {},
     "output_type": "execute_result"
    }
   ],
   "source": [
    "future_date_time"
   ]
  },
  {
   "cell_type": "code",
   "execution_count": 31,
   "metadata": {},
   "outputs": [],
   "source": [
    "datetime_difference = future_date_time - date_time_now"
   ]
  },
  {
   "cell_type": "code",
   "execution_count": 32,
   "metadata": {},
   "outputs": [
    {
     "data": {
      "text/plain": [
       "datetime.timedelta(days=732, seconds=48254, microseconds=220550)"
      ]
     },
     "execution_count": 32,
     "metadata": {},
     "output_type": "execute_result"
    }
   ],
   "source": [
    "datetime_difference"
   ]
  },
  {
   "cell_type": "code",
   "execution_count": 33,
   "metadata": {},
   "outputs": [
    {
     "data": {
      "text/plain": [
       "63293054.22055"
      ]
     },
     "execution_count": 33,
     "metadata": {},
     "output_type": "execute_result"
    }
   ],
   "source": [
    "datetime_difference.total_seconds()"
   ]
  }
 ],
 "metadata": {
  "kernelspec": {
   "display_name": "Python 3",
   "language": "python",
   "name": "python3"
  },
  "language_info": {
   "codemirror_mode": {
    "name": "ipython",
    "version": 3
   },
   "file_extension": ".py",
   "mimetype": "text/x-python",
   "name": "python",
   "nbconvert_exporter": "python",
   "pygments_lexer": "ipython3",
   "version": "3.7.4"
  }
 },
 "nbformat": 4,
 "nbformat_minor": 2
}
