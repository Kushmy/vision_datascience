{
 "cells": [
  {
   "cell_type": "markdown",
   "metadata": {},
   "source": [
    "## Problem Statement\n",
    "\n",
    "The class starts when a certain number of students (5) have joined. \n",
    "Until then, we wait.\n",
    "\n",
    "Write Python code to simulate this scenario."
   ]
  },
  {
   "cell_type": "markdown",
   "metadata": {},
   "source": [
    "### Solution #1: Repeating code with 'while', controlling execution flow with 'if' and 'else'"
   ]
  },
  {
   "cell_type": "code",
   "execution_count": 11,
   "metadata": {},
   "outputs": [
    {
     "name": "stdout",
     "output_type": "stream",
     "text": [
      "Waiting...\n",
      "Did a new student join (yes/no)?no\n",
      "Waiting...\n",
      "Did a new student join (yes/no)?yes\n",
      "Waiting...\n",
      "Did a new student join (yes/no)?yes\n",
      "Waiting...\n",
      "Did a new student join (yes/no)?yes\n",
      "Waiting...\n",
      "Did a new student join (yes/no)?yes\n",
      "Waiting...\n",
      "Did a new student join (yes/no)?yes\n",
      "Great! Lets begin...\n"
     ]
    }
   ],
   "source": [
    "current_student_count = 0       # integer variable\n",
    "class_started = False           # boolean varible\n",
    "\n",
    "while (class_started == False):\n",
    "    if (current_student_count == 5):\n",
    "        class_started = True\n",
    "    else:\n",
    "        print('Waiting...')\n",
    "        students_joined = input('Did a new student join (yes/no)?')\n",
    "        if students_joined == 'yes':\n",
    "            current_student_count = current_student_count + 1\n",
    "\n",
    "print('Great! Lets begin...')"
   ]
  },
  {
   "cell_type": "markdown",
   "metadata": {},
   "source": [
    "### Solution #2: different implementation with a few optimisations"
   ]
  },
  {
   "cell_type": "code",
   "execution_count": 22,
   "metadata": {},
   "outputs": [
    {
     "name": "stdout",
     "output_type": "stream",
     "text": [
      "Waiting...\n",
      "How many students have joined yet?7\n",
      "Great! Lets begin...\n"
     ]
    }
   ],
   "source": [
    "current_student_count = 0       # integer variable\n",
    "\n",
    "while (current_student_count < 5):\n",
    "    print('Waiting...')\n",
    "    students_joined = int(input('How many students have joined yet?'))\n",
    "    current_student_count = current_student_count + students_joined\n",
    "\n",
    "print('Great! Lets begin...')"
   ]
  },
  {
   "cell_type": "markdown",
   "metadata": {},
   "source": [
    "### Solution #3: futher optimised version"
   ]
  },
  {
   "cell_type": "code",
   "execution_count": 12,
   "metadata": {},
   "outputs": [
    {
     "name": "stdout",
     "output_type": "stream",
     "text": [
      "Waiting...\n",
      "How many students have joined yet?3\n",
      "Waiting...\n",
      "How many students have joined yet?3\n",
      "Great! Lets begin...\n"
     ]
    }
   ],
   "source": [
    "current_student_count = 0       # integer variable\n",
    "\n",
    "while (current_student_count < 5):\n",
    "        print('Waiting...')\n",
    "        current_student_count += int(input('How many students have joined yet?'))\n",
    "\n",
    "print('Great! Lets begin...')"
   ]
  },
  {
   "cell_type": "markdown",
   "metadata": {},
   "source": [
    "### Solution #4: Using elif, string formating, breaking an infinite loop"
   ]
  },
  {
   "cell_type": "code",
   "execution_count": 15,
   "metadata": {},
   "outputs": [
    {
     "name": "stdout",
     "output_type": "stream",
     "text": [
      "How many students have joined yet?0\n",
      "No students yet... :(\n",
      "How many students have joined yet?1\n",
      "Students are joining... Current student count = 1\n",
      "How many students have joined yet?6\n",
      "Great! Lets begin...\n"
     ]
    }
   ],
   "source": [
    "current_student_count = 0       # integer variable\n",
    "\n",
    "while True:\n",
    "    current_student_count += int(input('How many students have joined yet?'))\n",
    "    if (current_student_count < 1):\n",
    "        print('No students yet... :(')\n",
    "    elif (current_student_count < 2):\n",
    "        print('Students are joining... Current student count = {}'.format(current_student_count))\n",
    "    elif (current_student_count < 5):\n",
    "        print('Almost there... Current student count = {}'.format(current_student_count))\n",
    "    else:\n",
    "        break\n",
    "\n",
    "print('Great! Lets begin...')"
   ]
  },
  {
   "cell_type": "markdown",
   "metadata": {},
   "source": [
    "### Solution #5: including the keyword 'continue'"
   ]
  },
  {
   "cell_type": "code",
   "execution_count": 24,
   "metadata": {},
   "outputs": [
    {
     "name": "stdout",
     "output_type": "stream",
     "text": [
      "How many students have joined yet?0\n",
      "No students yet... :(\n",
      "How many students have joined yet?1\n",
      "Students are joining... Current student count = 1\n",
      "How many students have joined yet?1\n",
      "Almost there... Current student count = 2\n",
      "How many students have joined yet?1\n",
      "Almost there... Current student count = 3\n",
      "How many students have joined yet?1\n",
      "Almost there... Current student count = 4\n",
      "How many students have joined yet?1\n",
      "Great! Lets begin...\n"
     ]
    }
   ],
   "source": [
    "current_student_count = 0       # integer variable\n",
    "\n",
    "while True:\n",
    "    current_student_count += int(input('How many students have joined yet?'))\n",
    "    if (current_student_count < 1):\n",
    "        print('No students yet... :(')\n",
    "        continue\n",
    "    \n",
    "    if (current_student_count < 2):\n",
    "        print('Students are joining... Current student count = {}'.format(current_student_count))\n",
    "    elif (current_student_count < 5):\n",
    "        print('Almost there... Current student count = {}'.format(current_student_count))\n",
    "    else:\n",
    "        break\n",
    "\n",
    "print('Great! Lets begin...')"
   ]
  }
 ],
 "metadata": {
  "kernelspec": {
   "display_name": "Python 3",
   "language": "python",
   "name": "python3"
  },
  "language_info": {
   "codemirror_mode": {
    "name": "ipython",
    "version": 3
   },
   "file_extension": ".py",
   "mimetype": "text/x-python",
   "name": "python",
   "nbconvert_exporter": "python",
   "pygments_lexer": "ipython3",
   "version": "3.7.4"
  }
 },
 "nbformat": 4,
 "nbformat_minor": 2
}
