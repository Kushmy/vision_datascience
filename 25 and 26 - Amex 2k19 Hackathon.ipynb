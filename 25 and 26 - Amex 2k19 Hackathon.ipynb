{
 "cells": [
  {
   "cell_type": "code",
   "execution_count": 1,
   "metadata": {},
   "outputs": [],
   "source": [
    "import pandas as pd"
   ]
  },
  {
   "cell_type": "code",
   "execution_count": 3,
   "metadata": {},
   "outputs": [],
   "source": [
    "test_data_path = '/home/ngarg/Documents/work/Freelancing/VDS/ref/amex/data/test.csv'\n",
    "train_data_path = '/home/ngarg/Documents/work/Freelancing/VDS/ref/amex/data/train.csv'\n",
    "item_data_path = '/home/ngarg/Documents/work/Freelancing/VDS/ref/amex/data/item_data.csv'\n",
    "customer_transaction_data_path = '/home/ngarg/Documents/work/Freelancing/VDS/ref/amex/data/customer_transaction_data.csv'\n",
    "customer_demographics_data_path = '/home/ngarg/Documents/work/Freelancing/VDS/ref/amex/data/customer_demographics.csv'\n",
    "coupon_item_mapping_data_path = '/home/ngarg/Documents/work/Freelancing/VDS/ref/amex/data/coupon_item_mapping.csv'\n",
    "campaign_data_path = '/home/ngarg/Documents/work/Freelancing/VDS/ref/amex/data/campaign_data.csv'\n",
    "\n",
    "test_raw_data = pd.read_csv(test_data_path)\n",
    "train_raw_data = pd.read_csv(train_data_path)\n",
    "item_raw_data = pd.read_csv(item_data_path)\n",
    "ct_raw_data = pd.read_csv(customer_transaction_data_path)\n",
    "cd_raw_data = pd.read_csv(customer_demographics_data_path)\n",
    "cim_raw_data = pd.read_csv(coupon_item_mapping_data_path)\n",
    "campaign_raw_data = pd.read_csv(campaign_data_path)"
   ]
  },
  {
   "cell_type": "markdown",
   "metadata": {},
   "source": [
    "### EDA"
   ]
  },
  {
   "cell_type": "code",
   "execution_count": 4,
   "metadata": {},
   "outputs": [
    {
     "name": "stdout",
     "output_type": "stream",
     "text": [
      "<class 'pandas.core.frame.DataFrame'>\n",
      "RangeIndex: 50226 entries, 0 to 50225\n",
      "Data columns (total 4 columns):\n",
      "id             50226 non-null int64\n",
      "campaign_id    50226 non-null int64\n",
      "coupon_id      50226 non-null int64\n",
      "customer_id    50226 non-null int64\n",
      "dtypes: int64(4)\n",
      "memory usage: 1.5 MB\n"
     ]
    }
   ],
   "source": [
    "test_raw_data.info()"
   ]
  },
  {
   "cell_type": "code",
   "execution_count": 11,
   "metadata": {},
   "outputs": [
    {
     "data": {
      "text/plain": [
       "[50226, 10, 331, 1250]"
      ]
     },
     "execution_count": 11,
     "metadata": {},
     "output_type": "execute_result"
    }
   ],
   "source": [
    "list(test_raw_data.nunique())"
   ]
  },
  {
   "cell_type": "code",
   "execution_count": 5,
   "metadata": {},
   "outputs": [
    {
     "name": "stdout",
     "output_type": "stream",
     "text": [
      "<class 'pandas.core.frame.DataFrame'>\n",
      "RangeIndex: 78369 entries, 0 to 78368\n",
      "Data columns (total 5 columns):\n",
      "id                   78369 non-null int64\n",
      "campaign_id          78369 non-null int64\n",
      "coupon_id            78369 non-null int64\n",
      "customer_id          78369 non-null int64\n",
      "redemption_status    78369 non-null int64\n",
      "dtypes: int64(5)\n",
      "memory usage: 3.0 MB\n"
     ]
    }
   ],
   "source": [
    "train_raw_data.info()"
   ]
  },
  {
   "cell_type": "code",
   "execution_count": 12,
   "metadata": {},
   "outputs": [
    {
     "data": {
      "text/plain": [
       "[78369, 18, 866, 1428, 2]"
      ]
     },
     "execution_count": 12,
     "metadata": {},
     "output_type": "execute_result"
    }
   ],
   "source": [
    "list(train_raw_data.nunique())"
   ]
  },
  {
   "cell_type": "code",
   "execution_count": 6,
   "metadata": {},
   "outputs": [
    {
     "name": "stdout",
     "output_type": "stream",
     "text": [
      "<class 'pandas.core.frame.DataFrame'>\n",
      "RangeIndex: 74066 entries, 0 to 74065\n",
      "Data columns (total 4 columns):\n",
      "item_id       74066 non-null int64\n",
      "brand         74066 non-null int64\n",
      "brand_type    74066 non-null object\n",
      "category      74066 non-null object\n",
      "dtypes: int64(2), object(2)\n",
      "memory usage: 2.3+ MB\n"
     ]
    }
   ],
   "source": [
    "item_raw_data.info()"
   ]
  },
  {
   "cell_type": "code",
   "execution_count": 7,
   "metadata": {},
   "outputs": [
    {
     "data": {
      "text/plain": [
       "[74066, 5528, 2, 19]"
      ]
     },
     "execution_count": 7,
     "metadata": {},
     "output_type": "execute_result"
    }
   ],
   "source": [
    "list(item_raw_data.nunique())"
   ]
  },
  {
   "cell_type": "code",
   "execution_count": 8,
   "metadata": {},
   "outputs": [
    {
     "name": "stdout",
     "output_type": "stream",
     "text": [
      "<class 'pandas.core.frame.DataFrame'>\n",
      "RangeIndex: 1324566 entries, 0 to 1324565\n",
      "Data columns (total 7 columns):\n",
      "date               1324566 non-null object\n",
      "customer_id        1324566 non-null int64\n",
      "item_id            1324566 non-null int64\n",
      "quantity           1324566 non-null int64\n",
      "selling_price      1324566 non-null float64\n",
      "other_discount     1324566 non-null float64\n",
      "coupon_discount    1324566 non-null float64\n",
      "dtypes: float64(3), int64(3), object(1)\n",
      "memory usage: 70.7+ MB\n"
     ]
    }
   ],
   "source": [
    "ct_raw_data.info()"
   ]
  },
  {
   "cell_type": "code",
   "execution_count": 9,
   "metadata": {},
   "outputs": [
    {
     "data": {
      "text/plain": [
       "[549, 1582, 74063, 9252, 4923, 1418, 232]"
      ]
     },
     "execution_count": 9,
     "metadata": {},
     "output_type": "execute_result"
    }
   ],
   "source": [
    "list(ct_raw_data.nunique())"
   ]
  },
  {
   "cell_type": "code",
   "execution_count": 10,
   "metadata": {},
   "outputs": [
    {
     "name": "stdout",
     "output_type": "stream",
     "text": [
      "<class 'pandas.core.frame.DataFrame'>\n",
      "RangeIndex: 760 entries, 0 to 759\n",
      "Data columns (total 7 columns):\n",
      "customer_id       760 non-null int64\n",
      "age_range         760 non-null object\n",
      "marital_status    431 non-null object\n",
      "rented            760 non-null int64\n",
      "family_size       760 non-null object\n",
      "no_of_children    222 non-null object\n",
      "income_bracket    760 non-null int64\n",
      "dtypes: int64(3), object(4)\n",
      "memory usage: 41.6+ KB\n"
     ]
    }
   ],
   "source": [
    "cd_raw_data.info() # we are going to drop this dataset for our demonstration here as ~50% customers' data is missing"
   ]
  },
  {
   "cell_type": "code",
   "execution_count": 13,
   "metadata": {},
   "outputs": [
    {
     "name": "stdout",
     "output_type": "stream",
     "text": [
      "<class 'pandas.core.frame.DataFrame'>\n",
      "RangeIndex: 92663 entries, 0 to 92662\n",
      "Data columns (total 2 columns):\n",
      "coupon_id    92663 non-null int64\n",
      "item_id      92663 non-null int64\n",
      "dtypes: int64(2)\n",
      "memory usage: 1.4 MB\n"
     ]
    }
   ],
   "source": [
    "cim_raw_data.info()"
   ]
  },
  {
   "cell_type": "code",
   "execution_count": 14,
   "metadata": {},
   "outputs": [
    {
     "data": {
      "text/plain": [
       "[1116, 36289]"
      ]
     },
     "execution_count": 14,
     "metadata": {},
     "output_type": "execute_result"
    }
   ],
   "source": [
    "list(cim_raw_data.nunique())"
   ]
  },
  {
   "cell_type": "code",
   "execution_count": 15,
   "metadata": {},
   "outputs": [
    {
     "name": "stdout",
     "output_type": "stream",
     "text": [
      "<class 'pandas.core.frame.DataFrame'>\n",
      "RangeIndex: 28 entries, 0 to 27\n",
      "Data columns (total 4 columns):\n",
      "campaign_id      28 non-null int64\n",
      "campaign_type    28 non-null object\n",
      "start_date       28 non-null object\n",
      "end_date         28 non-null object\n",
      "dtypes: int64(1), object(3)\n",
      "memory usage: 976.0+ bytes\n"
     ]
    }
   ],
   "source": [
    "campaign_raw_data.info()"
   ]
  },
  {
   "cell_type": "code",
   "execution_count": 16,
   "metadata": {},
   "outputs": [
    {
     "data": {
      "text/plain": [
       "[28, 2, 25, 26]"
      ]
     },
     "execution_count": 16,
     "metadata": {},
     "output_type": "execute_result"
    }
   ],
   "source": [
    "list(campaign_raw_data.nunique())"
   ]
  },
  {
   "cell_type": "code",
   "execution_count": 17,
   "metadata": {},
   "outputs": [
    {
     "data": {
      "text/plain": [
       "1250"
      ]
     },
     "execution_count": 17,
     "metadata": {},
     "output_type": "execute_result"
    }
   ],
   "source": [
    "len(set(test_raw_data['customer_id']).intersection(set(ct_raw_data['customer_id'])))"
   ]
  },
  {
   "cell_type": "code",
   "execution_count": 18,
   "metadata": {},
   "outputs": [
    {
     "data": {
      "text/plain": [
       "1428"
      ]
     },
     "execution_count": 18,
     "metadata": {},
     "output_type": "execute_result"
    }
   ],
   "source": [
    "len(set(train_raw_data['customer_id']).intersection(set(ct_raw_data['customer_id'])))"
   ]
  },
  {
   "cell_type": "code",
   "execution_count": 19,
   "metadata": {},
   "outputs": [
    {
     "data": {
      "text/plain": [
       "10"
      ]
     },
     "execution_count": 19,
     "metadata": {},
     "output_type": "execute_result"
    }
   ],
   "source": [
    "len(set(test_raw_data['campaign_id']).intersection(set(campaign_raw_data['campaign_id'])))"
   ]
  },
  {
   "cell_type": "code",
   "execution_count": 20,
   "metadata": {},
   "outputs": [
    {
     "data": {
      "text/plain": [
       "18"
      ]
     },
     "execution_count": 20,
     "metadata": {},
     "output_type": "execute_result"
    }
   ],
   "source": [
    "len(set(train_raw_data['campaign_id']).intersection(set(campaign_raw_data['campaign_id'])))"
   ]
  },
  {
   "cell_type": "code",
   "execution_count": 21,
   "metadata": {},
   "outputs": [
    {
     "data": {
      "text/plain": [
       "331"
      ]
     },
     "execution_count": 21,
     "metadata": {},
     "output_type": "execute_result"
    }
   ],
   "source": [
    "len(set(test_raw_data['coupon_id']).intersection(set(cim_raw_data['coupon_id'])))"
   ]
  },
  {
   "cell_type": "code",
   "execution_count": 22,
   "metadata": {},
   "outputs": [
    {
     "data": {
      "text/plain": [
       "866"
      ]
     },
     "execution_count": 22,
     "metadata": {},
     "output_type": "execute_result"
    }
   ],
   "source": [
    "len(set(train_raw_data['coupon_id']).intersection(set(cim_raw_data['coupon_id'])))"
   ]
  },
  {
   "cell_type": "code",
   "execution_count": 23,
   "metadata": {},
   "outputs": [
    {
     "data": {
      "text/plain": [
       "36289"
      ]
     },
     "execution_count": 23,
     "metadata": {},
     "output_type": "execute_result"
    }
   ],
   "source": [
    "len(set(cim_raw_data['item_id']).intersection(set(item_raw_data['item_id'])))"
   ]
  },
  {
   "cell_type": "code",
   "execution_count": 24,
   "metadata": {},
   "outputs": [
    {
     "data": {
      "text/plain": [
       "74063"
      ]
     },
     "execution_count": 24,
     "metadata": {},
     "output_type": "execute_result"
    }
   ],
   "source": [
    "len(set(ct_raw_data['item_id']).intersection(set(item_raw_data['item_id'])))"
   ]
  },
  {
   "cell_type": "markdown",
   "metadata": {},
   "source": [
    "### Data Wrangling: Simple merge and merge using feature engineering"
   ]
  },
  {
   "cell_type": "code",
   "execution_count": 25,
   "metadata": {},
   "outputs": [],
   "source": [
    "df_coupon_item_merged = cim_raw_data.merge(item_raw_data, on='item_id')"
   ]
  },
  {
   "cell_type": "code",
   "execution_count": 26,
   "metadata": {},
   "outputs": [
    {
     "name": "stdout",
     "output_type": "stream",
     "text": [
      "<class 'pandas.core.frame.DataFrame'>\n",
      "Int64Index: 92663 entries, 0 to 92662\n",
      "Data columns (total 5 columns):\n",
      "coupon_id     92663 non-null int64\n",
      "item_id       92663 non-null int64\n",
      "brand         92663 non-null int64\n",
      "brand_type    92663 non-null object\n",
      "category      92663 non-null object\n",
      "dtypes: int64(3), object(2)\n",
      "memory usage: 4.2+ MB\n"
     ]
    }
   ],
   "source": [
    "df_coupon_item_merged.info()"
   ]
  },
  {
   "cell_type": "code",
   "execution_count": 30,
   "metadata": {},
   "outputs": [
    {
     "data": {
      "text/plain": [
       "[1116, 36289, 2555, 2, 17]"
      ]
     },
     "execution_count": 30,
     "metadata": {},
     "output_type": "execute_result"
    }
   ],
   "source": [
    "list(df_coupon_item_merged.nunique())"
   ]
  },
  {
   "cell_type": "code",
   "execution_count": 27,
   "metadata": {},
   "outputs": [],
   "source": [
    "df_coupon_item_merged_gb_coupon_id = df_coupon_item_merged.groupby('coupon_id')"
   ]
  },
  {
   "cell_type": "code",
   "execution_count": 28,
   "metadata": {},
   "outputs": [
    {
     "name": "stdout",
     "output_type": "stream",
     "text": [
      "<class 'pandas.core.frame.DataFrame'>\n",
      "Int64Index: 78369 entries, 0 to 78368\n",
      "Data columns (total 8 columns):\n",
      "id                   78369 non-null int64\n",
      "campaign_id          78369 non-null int64\n",
      "coupon_id            78369 non-null int64\n",
      "customer_id          78369 non-null int64\n",
      "redemption_status    78369 non-null int64\n",
      "campaign_type        78369 non-null object\n",
      "start_date           78369 non-null object\n",
      "end_date             78369 non-null object\n",
      "dtypes: int64(5), object(3)\n",
      "memory usage: 5.4+ MB\n"
     ]
    }
   ],
   "source": [
    "df_train_merged = train_raw_data.merge(campaign_raw_data, on='campaign_id')\n",
    "df_train_merged.info()"
   ]
  },
  {
   "cell_type": "code",
   "execution_count": 29,
   "metadata": {},
   "outputs": [
    {
     "name": "stdout",
     "output_type": "stream",
     "text": [
      "<class 'pandas.core.frame.DataFrame'>\n",
      "Int64Index: 50226 entries, 0 to 50225\n",
      "Data columns (total 7 columns):\n",
      "id               50226 non-null int64\n",
      "campaign_id      50226 non-null int64\n",
      "coupon_id        50226 non-null int64\n",
      "customer_id      50226 non-null int64\n",
      "campaign_type    50226 non-null object\n",
      "start_date       50226 non-null object\n",
      "end_date         50226 non-null object\n",
      "dtypes: int64(4), object(3)\n",
      "memory usage: 3.1+ MB\n"
     ]
    }
   ],
   "source": [
    "df_test_merged = test_raw_data.merge(campaign_raw_data, on='campaign_id')\n",
    "df_test_merged.info()"
   ]
  },
  {
   "cell_type": "code",
   "execution_count": 31,
   "metadata": {},
   "outputs": [],
   "source": [
    "df_train_merged['coupon_items_count'] = df_train_merged.apply(lambda x: (df_coupon_item_merged_gb_coupon_id.get_group(x['coupon_id'])['item_id']).count(), axis=1)\n",
    "df_train_merged['coupon_items_unique_brands'] = df_train_merged.apply(lambda x: (df_coupon_item_merged_gb_coupon_id.get_group(x['coupon_id'])['brand']).nunique(), axis=1)\n",
    "df_train_merged['coupon_items_unique_categories'] = df_train_merged.apply(lambda x: (df_coupon_item_merged_gb_coupon_id.get_group(x['coupon_id'])['brand_type']).nunique(), axis=1)\n",
    "\n",
    "df_test_merged['coupon_items_count'] = df_test_merged.apply(lambda x: (df_coupon_item_merged_gb_coupon_id.get_group(x['coupon_id'])['item_id']).count(), axis=1)\n",
    "df_test_merged['coupon_items_unique_brands'] = df_test_merged.apply(lambda x: (df_coupon_item_merged_gb_coupon_id.get_group(x['coupon_id'])['brand']).nunique(), axis=1)\n",
    "df_test_merged['coupon_items_unique_categories'] = df_test_merged.apply(lambda x: (df_coupon_item_merged_gb_coupon_id.get_group(x['coupon_id'])['brand_type']).nunique(), axis=1)"
   ]
  },
  {
   "cell_type": "code",
   "execution_count": 32,
   "metadata": {},
   "outputs": [],
   "source": [
    "ct_raw_data_gb_customer_id = ct_raw_data.groupby('customer_id')"
   ]
  },
  {
   "cell_type": "code",
   "execution_count": 40,
   "metadata": {},
   "outputs": [],
   "source": [
    "df_train_merged['transactions_count'] = df_train_merged.apply(lambda x: len(ct_raw_data_gb_customer_id.get_group(x['customer_id'])), axis=1)\n",
    "df_train_merged['transactions_start_date'] = df_train_merged.apply(lambda x: (ct_raw_data_gb_customer_id.get_group(x['customer_id'])['date']).min(), axis=1)\n",
    "df_train_merged['transactions_end_date'] = df_train_merged.apply(lambda x: (ct_raw_data_gb_customer_id.get_group(x['customer_id'])['date']).max(), axis=1)\n",
    "df_train_merged['transactions_unique_items'] = df_train_merged.apply(lambda x: (ct_raw_data_gb_customer_id.get_group(x['customer_id'])['item_id']).nunique(), axis=1)\n",
    "\n",
    "df_test_merged['transactions_count'] = df_test_merged.apply(lambda x: len(ct_raw_data_gb_customer_id.get_group(x['customer_id'])), axis=1)\n",
    "df_test_merged['transactions_start_date'] = df_test_merged.apply(lambda x: (ct_raw_data_gb_customer_id.get_group(x['customer_id'])['date']).min(), axis=1)\n",
    "df_test_merged['transactions_end_date'] = df_test_merged.apply(lambda x: (ct_raw_data_gb_customer_id.get_group(x['customer_id'])['date']).max(), axis=1)\n",
    "df_test_merged['transactions_unique_items'] = df_test_merged.apply(lambda x: (ct_raw_data_gb_customer_id.get_group(x['customer_id'])['item_id']).nunique(), axis=1)"
   ]
  },
  {
   "cell_type": "code",
   "execution_count": 34,
   "metadata": {},
   "outputs": [],
   "source": [
    "df_train_merged.to_csv('amex_2k19_hackathon_train_merged.csv', index=False)\n",
    "df_test_merged.to_csv('amex_2k19_hackathon_test_merged.csv', index=False)"
   ]
  },
  {
   "cell_type": "code",
   "execution_count": 2,
   "metadata": {},
   "outputs": [],
   "source": [
    "df_train_merged = pd.read_csv('amex_2k19_hackathon_train_merged.csv')\n",
    "df_test_merged = pd.read_csv('amex_2k19_hackathon_test_merged.csv')"
   ]
  },
  {
   "cell_type": "code",
   "execution_count": 3,
   "metadata": {},
   "outputs": [
    {
     "data": {
      "text/html": [
       "<div>\n",
       "<style scoped>\n",
       "    .dataframe tbody tr th:only-of-type {\n",
       "        vertical-align: middle;\n",
       "    }\n",
       "\n",
       "    .dataframe tbody tr th {\n",
       "        vertical-align: top;\n",
       "    }\n",
       "\n",
       "    .dataframe thead th {\n",
       "        text-align: right;\n",
       "    }\n",
       "</style>\n",
       "<table border=\"1\" class=\"dataframe\">\n",
       "  <thead>\n",
       "    <tr style=\"text-align: right;\">\n",
       "      <th></th>\n",
       "      <th>id</th>\n",
       "      <th>campaign_id</th>\n",
       "      <th>coupon_id</th>\n",
       "      <th>customer_id</th>\n",
       "      <th>redemption_status</th>\n",
       "      <th>campaign_type</th>\n",
       "      <th>start_date</th>\n",
       "      <th>end_date</th>\n",
       "      <th>coupon_items_count</th>\n",
       "      <th>coupon_items_unique_brands</th>\n",
       "      <th>coupon_items_unique_categories</th>\n",
       "      <th>transactions_count</th>\n",
       "      <th>transactions_start_date</th>\n",
       "      <th>transactions_end_date</th>\n",
       "      <th>transactions_unique_items</th>\n",
       "    </tr>\n",
       "  </thead>\n",
       "  <tbody>\n",
       "    <tr>\n",
       "      <th>0</th>\n",
       "      <td>1</td>\n",
       "      <td>13</td>\n",
       "      <td>27</td>\n",
       "      <td>1053</td>\n",
       "      <td>0</td>\n",
       "      <td>X</td>\n",
       "      <td>19/05/13</td>\n",
       "      <td>05/07/13</td>\n",
       "      <td>125</td>\n",
       "      <td>2</td>\n",
       "      <td>1</td>\n",
       "      <td>310</td>\n",
       "      <td>2012-01-10</td>\n",
       "      <td>2013-07-01</td>\n",
       "      <td>208</td>\n",
       "    </tr>\n",
       "    <tr>\n",
       "      <th>1</th>\n",
       "      <td>2</td>\n",
       "      <td>13</td>\n",
       "      <td>116</td>\n",
       "      <td>48</td>\n",
       "      <td>0</td>\n",
       "      <td>X</td>\n",
       "      <td>19/05/13</td>\n",
       "      <td>05/07/13</td>\n",
       "      <td>3</td>\n",
       "      <td>1</td>\n",
       "      <td>1</td>\n",
       "      <td>385</td>\n",
       "      <td>2012-03-04</td>\n",
       "      <td>2013-06-13</td>\n",
       "      <td>244</td>\n",
       "    </tr>\n",
       "    <tr>\n",
       "      <th>2</th>\n",
       "      <td>7</td>\n",
       "      <td>13</td>\n",
       "      <td>644</td>\n",
       "      <td>1050</td>\n",
       "      <td>0</td>\n",
       "      <td>X</td>\n",
       "      <td>19/05/13</td>\n",
       "      <td>05/07/13</td>\n",
       "      <td>4</td>\n",
       "      <td>1</td>\n",
       "      <td>1</td>\n",
       "      <td>237</td>\n",
       "      <td>2012-02-14</td>\n",
       "      <td>2013-06-19</td>\n",
       "      <td>216</td>\n",
       "    </tr>\n",
       "    <tr>\n",
       "      <th>3</th>\n",
       "      <td>21</td>\n",
       "      <td>13</td>\n",
       "      <td>1028</td>\n",
       "      <td>89</td>\n",
       "      <td>0</td>\n",
       "      <td>X</td>\n",
       "      <td>19/05/13</td>\n",
       "      <td>05/07/13</td>\n",
       "      <td>6</td>\n",
       "      <td>1</td>\n",
       "      <td>1</td>\n",
       "      <td>668</td>\n",
       "      <td>2012-04-06</td>\n",
       "      <td>2013-06-28</td>\n",
       "      <td>498</td>\n",
       "    </tr>\n",
       "    <tr>\n",
       "      <th>4</th>\n",
       "      <td>23</td>\n",
       "      <td>13</td>\n",
       "      <td>517</td>\n",
       "      <td>1067</td>\n",
       "      <td>0</td>\n",
       "      <td>X</td>\n",
       "      <td>19/05/13</td>\n",
       "      <td>05/07/13</td>\n",
       "      <td>3</td>\n",
       "      <td>1</td>\n",
       "      <td>1</td>\n",
       "      <td>970</td>\n",
       "      <td>2012-03-23</td>\n",
       "      <td>2013-07-02</td>\n",
       "      <td>533</td>\n",
       "    </tr>\n",
       "  </tbody>\n",
       "</table>\n",
       "</div>"
      ],
      "text/plain": [
       "   id  campaign_id  coupon_id  customer_id  redemption_status campaign_type  \\\n",
       "0   1           13         27         1053                  0             X   \n",
       "1   2           13        116           48                  0             X   \n",
       "2   7           13        644         1050                  0             X   \n",
       "3  21           13       1028           89                  0             X   \n",
       "4  23           13        517         1067                  0             X   \n",
       "\n",
       "  start_date  end_date  coupon_items_count  coupon_items_unique_brands  \\\n",
       "0   19/05/13  05/07/13                 125                           2   \n",
       "1   19/05/13  05/07/13                   3                           1   \n",
       "2   19/05/13  05/07/13                   4                           1   \n",
       "3   19/05/13  05/07/13                   6                           1   \n",
       "4   19/05/13  05/07/13                   3                           1   \n",
       "\n",
       "   coupon_items_unique_categories  transactions_count transactions_start_date  \\\n",
       "0                               1                 310              2012-01-10   \n",
       "1                               1                 385              2012-03-04   \n",
       "2                               1                 237              2012-02-14   \n",
       "3                               1                 668              2012-04-06   \n",
       "4                               1                 970              2012-03-23   \n",
       "\n",
       "  transactions_end_date  transactions_unique_items  \n",
       "0            2013-07-01                        208  \n",
       "1            2013-06-13                        244  \n",
       "2            2013-06-19                        216  \n",
       "3            2013-06-28                        498  \n",
       "4            2013-07-02                        533  "
      ]
     },
     "execution_count": 3,
     "metadata": {},
     "output_type": "execute_result"
    }
   ],
   "source": [
    "df_train_merged.head()"
   ]
  },
  {
   "cell_type": "code",
   "execution_count": 4,
   "metadata": {},
   "outputs": [
    {
     "data": {
      "text/html": [
       "<div>\n",
       "<style scoped>\n",
       "    .dataframe tbody tr th:only-of-type {\n",
       "        vertical-align: middle;\n",
       "    }\n",
       "\n",
       "    .dataframe tbody tr th {\n",
       "        vertical-align: top;\n",
       "    }\n",
       "\n",
       "    .dataframe thead th {\n",
       "        text-align: right;\n",
       "    }\n",
       "</style>\n",
       "<table border=\"1\" class=\"dataframe\">\n",
       "  <thead>\n",
       "    <tr style=\"text-align: right;\">\n",
       "      <th></th>\n",
       "      <th>id</th>\n",
       "      <th>campaign_id</th>\n",
       "      <th>coupon_id</th>\n",
       "      <th>customer_id</th>\n",
       "      <th>campaign_type</th>\n",
       "      <th>start_date</th>\n",
       "      <th>end_date</th>\n",
       "      <th>coupon_items_count</th>\n",
       "      <th>coupon_items_unique_brands</th>\n",
       "      <th>coupon_items_unique_categories</th>\n",
       "      <th>transactions_count</th>\n",
       "      <th>transactions_start_date</th>\n",
       "      <th>transactions_end_date</th>\n",
       "      <th>transactions_unique_items</th>\n",
       "    </tr>\n",
       "  </thead>\n",
       "  <tbody>\n",
       "    <tr>\n",
       "      <th>0</th>\n",
       "      <td>3</td>\n",
       "      <td>22</td>\n",
       "      <td>869</td>\n",
       "      <td>967</td>\n",
       "      <td>X</td>\n",
       "      <td>16/09/13</td>\n",
       "      <td>18/10/13</td>\n",
       "      <td>72</td>\n",
       "      <td>1</td>\n",
       "      <td>1</td>\n",
       "      <td>1362</td>\n",
       "      <td>2012-04-25</td>\n",
       "      <td>2013-06-27</td>\n",
       "      <td>658</td>\n",
       "    </tr>\n",
       "    <tr>\n",
       "      <th>1</th>\n",
       "      <td>5</td>\n",
       "      <td>22</td>\n",
       "      <td>981</td>\n",
       "      <td>510</td>\n",
       "      <td>X</td>\n",
       "      <td>16/09/13</td>\n",
       "      <td>18/10/13</td>\n",
       "      <td>19</td>\n",
       "      <td>1</td>\n",
       "      <td>1</td>\n",
       "      <td>1642</td>\n",
       "      <td>2012-03-04</td>\n",
       "      <td>2013-06-19</td>\n",
       "      <td>1019</td>\n",
       "    </tr>\n",
       "    <tr>\n",
       "      <th>2</th>\n",
       "      <td>16</td>\n",
       "      <td>22</td>\n",
       "      <td>1079</td>\n",
       "      <td>1186</td>\n",
       "      <td>X</td>\n",
       "      <td>16/09/13</td>\n",
       "      <td>18/10/13</td>\n",
       "      <td>62</td>\n",
       "      <td>1</td>\n",
       "      <td>1</td>\n",
       "      <td>1212</td>\n",
       "      <td>2012-04-14</td>\n",
       "      <td>2013-07-02</td>\n",
       "      <td>721</td>\n",
       "    </tr>\n",
       "    <tr>\n",
       "      <th>3</th>\n",
       "      <td>31</td>\n",
       "      <td>22</td>\n",
       "      <td>583</td>\n",
       "      <td>315</td>\n",
       "      <td>X</td>\n",
       "      <td>16/09/13</td>\n",
       "      <td>18/10/13</td>\n",
       "      <td>5</td>\n",
       "      <td>1</td>\n",
       "      <td>1</td>\n",
       "      <td>777</td>\n",
       "      <td>2012-04-27</td>\n",
       "      <td>2013-07-03</td>\n",
       "      <td>448</td>\n",
       "    </tr>\n",
       "    <tr>\n",
       "      <th>4</th>\n",
       "      <td>38</td>\n",
       "      <td>22</td>\n",
       "      <td>452</td>\n",
       "      <td>1323</td>\n",
       "      <td>X</td>\n",
       "      <td>16/09/13</td>\n",
       "      <td>18/10/13</td>\n",
       "      <td>21</td>\n",
       "      <td>1</td>\n",
       "      <td>1</td>\n",
       "      <td>945</td>\n",
       "      <td>2012-01-04</td>\n",
       "      <td>2013-06-24</td>\n",
       "      <td>561</td>\n",
       "    </tr>\n",
       "  </tbody>\n",
       "</table>\n",
       "</div>"
      ],
      "text/plain": [
       "   id  campaign_id  coupon_id  customer_id campaign_type start_date  end_date  \\\n",
       "0   3           22        869          967             X   16/09/13  18/10/13   \n",
       "1   5           22        981          510             X   16/09/13  18/10/13   \n",
       "2  16           22       1079         1186             X   16/09/13  18/10/13   \n",
       "3  31           22        583          315             X   16/09/13  18/10/13   \n",
       "4  38           22        452         1323             X   16/09/13  18/10/13   \n",
       "\n",
       "   coupon_items_count  coupon_items_unique_brands  \\\n",
       "0                  72                           1   \n",
       "1                  19                           1   \n",
       "2                  62                           1   \n",
       "3                   5                           1   \n",
       "4                  21                           1   \n",
       "\n",
       "   coupon_items_unique_categories  transactions_count transactions_start_date  \\\n",
       "0                               1                1362              2012-04-25   \n",
       "1                               1                1642              2012-03-04   \n",
       "2                               1                1212              2012-04-14   \n",
       "3                               1                 777              2012-04-27   \n",
       "4                               1                 945              2012-01-04   \n",
       "\n",
       "  transactions_end_date  transactions_unique_items  \n",
       "0            2013-06-27                        658  \n",
       "1            2013-06-19                       1019  \n",
       "2            2013-07-02                        721  \n",
       "3            2013-07-03                        448  \n",
       "4            2013-06-24                        561  "
      ]
     },
     "execution_count": 4,
     "metadata": {},
     "output_type": "execute_result"
    }
   ],
   "source": [
    "df_test_merged.head()"
   ]
  },
  {
   "cell_type": "code",
   "execution_count": 5,
   "metadata": {},
   "outputs": [
    {
     "data": {
      "text/plain": [
       "str"
      ]
     },
     "execution_count": 5,
     "metadata": {},
     "output_type": "execute_result"
    }
   ],
   "source": [
    "type(df_train_merged.start_date[0])"
   ]
  },
  {
   "cell_type": "code",
   "execution_count": 6,
   "metadata": {},
   "outputs": [
    {
     "data": {
      "text/plain": [
       "str"
      ]
     },
     "execution_count": 6,
     "metadata": {},
     "output_type": "execute_result"
    }
   ],
   "source": [
    "type(df_train_merged.transactions_start_date[0])"
   ]
  },
  {
   "cell_type": "code",
   "execution_count": 7,
   "metadata": {},
   "outputs": [],
   "source": [
    "df_train_merged.campaign_type = df_train_merged.campaign_type.astype('category')\n",
    "df_train_merged.campaign_type = df_train_merged.campaign_type.cat.codes\n",
    "df_train_merged.start_date = df_train_merged.start_date.apply(lambda x: x.replace('/', ''))\n",
    "df_train_merged.end_date = df_train_merged.end_date.apply(lambda x: x.replace('/', ''))\n",
    "df_train_merged.transactions_start_date = df_train_merged.transactions_start_date.apply(lambda x: x[8:]+x[5:7]+x[:4])\n",
    "df_train_merged.transactions_end_date = df_train_merged.transactions_end_date.apply(lambda x: x[8:]+x[5:7]+x[:4])\n",
    "df_train_merged = df_train_merged.astype(int)\n",
    "\n",
    "df_test_merged.campaign_type = df_test_merged.campaign_type.astype('category')\n",
    "df_test_merged.campaign_type = df_test_merged.campaign_type.cat.codes\n",
    "df_test_merged.start_date = df_test_merged.start_date.apply(lambda x: x.replace('/', ''))\n",
    "df_test_merged.end_date = df_test_merged.end_date.apply(lambda x: x.replace('/', ''))\n",
    "df_test_merged.transactions_start_date = df_test_merged.transactions_start_date.apply(lambda x: x[8:]+x[5:7]+x[:4])\n",
    "df_test_merged.transactions_end_date = df_test_merged.transactions_end_date.apply(lambda x: x[8:]+x[5:7]+x[:4])\n",
    "df_test_merged = df_test_merged.astype(int)"
   ]
  },
  {
   "cell_type": "code",
   "execution_count": 8,
   "metadata": {},
   "outputs": [
    {
     "name": "stdout",
     "output_type": "stream",
     "text": [
      "<class 'pandas.core.frame.DataFrame'>\n",
      "RangeIndex: 78369 entries, 0 to 78368\n",
      "Data columns (total 15 columns):\n",
      "id                                78369 non-null int64\n",
      "campaign_id                       78369 non-null int64\n",
      "coupon_id                         78369 non-null int64\n",
      "customer_id                       78369 non-null int64\n",
      "redemption_status                 78369 non-null int64\n",
      "campaign_type                     78369 non-null int64\n",
      "start_date                        78369 non-null int64\n",
      "end_date                          78369 non-null int64\n",
      "coupon_items_count                78369 non-null int64\n",
      "coupon_items_unique_brands        78369 non-null int64\n",
      "coupon_items_unique_categories    78369 non-null int64\n",
      "transactions_count                78369 non-null int64\n",
      "transactions_start_date           78369 non-null int64\n",
      "transactions_end_date             78369 non-null int64\n",
      "transactions_unique_items         78369 non-null int64\n",
      "dtypes: int64(15)\n",
      "memory usage: 9.0 MB\n"
     ]
    }
   ],
   "source": [
    "df_train_merged.info()"
   ]
  },
  {
   "cell_type": "code",
   "execution_count": 9,
   "metadata": {},
   "outputs": [
    {
     "name": "stdout",
     "output_type": "stream",
     "text": [
      "<class 'pandas.core.frame.DataFrame'>\n",
      "RangeIndex: 50226 entries, 0 to 50225\n",
      "Data columns (total 14 columns):\n",
      "id                                50226 non-null int64\n",
      "campaign_id                       50226 non-null int64\n",
      "coupon_id                         50226 non-null int64\n",
      "customer_id                       50226 non-null int64\n",
      "campaign_type                     50226 non-null int64\n",
      "start_date                        50226 non-null int64\n",
      "end_date                          50226 non-null int64\n",
      "coupon_items_count                50226 non-null int64\n",
      "coupon_items_unique_brands        50226 non-null int64\n",
      "coupon_items_unique_categories    50226 non-null int64\n",
      "transactions_count                50226 non-null int64\n",
      "transactions_start_date           50226 non-null int64\n",
      "transactions_end_date             50226 non-null int64\n",
      "transactions_unique_items         50226 non-null int64\n",
      "dtypes: int64(14)\n",
      "memory usage: 5.4 MB\n"
     ]
    }
   ],
   "source": [
    "df_test_merged.info()"
   ]
  },
  {
   "cell_type": "code",
   "execution_count": 10,
   "metadata": {},
   "outputs": [
    {
     "data": {
      "text/html": [
       "<div>\n",
       "<style scoped>\n",
       "    .dataframe tbody tr th:only-of-type {\n",
       "        vertical-align: middle;\n",
       "    }\n",
       "\n",
       "    .dataframe tbody tr th {\n",
       "        vertical-align: top;\n",
       "    }\n",
       "\n",
       "    .dataframe thead th {\n",
       "        text-align: right;\n",
       "    }\n",
       "</style>\n",
       "<table border=\"1\" class=\"dataframe\">\n",
       "  <thead>\n",
       "    <tr style=\"text-align: right;\">\n",
       "      <th></th>\n",
       "      <th>id</th>\n",
       "      <th>campaign_id</th>\n",
       "      <th>coupon_id</th>\n",
       "      <th>customer_id</th>\n",
       "      <th>redemption_status</th>\n",
       "      <th>campaign_type</th>\n",
       "      <th>start_date</th>\n",
       "      <th>end_date</th>\n",
       "      <th>coupon_items_count</th>\n",
       "      <th>coupon_items_unique_brands</th>\n",
       "      <th>coupon_items_unique_categories</th>\n",
       "      <th>transactions_count</th>\n",
       "      <th>transactions_start_date</th>\n",
       "      <th>transactions_end_date</th>\n",
       "      <th>transactions_unique_items</th>\n",
       "    </tr>\n",
       "  </thead>\n",
       "  <tbody>\n",
       "    <tr>\n",
       "      <th>0</th>\n",
       "      <td>1</td>\n",
       "      <td>13</td>\n",
       "      <td>27</td>\n",
       "      <td>1053</td>\n",
       "      <td>0</td>\n",
       "      <td>0</td>\n",
       "      <td>190513</td>\n",
       "      <td>50713</td>\n",
       "      <td>125</td>\n",
       "      <td>2</td>\n",
       "      <td>1</td>\n",
       "      <td>310</td>\n",
       "      <td>10012012</td>\n",
       "      <td>1072013</td>\n",
       "      <td>208</td>\n",
       "    </tr>\n",
       "    <tr>\n",
       "      <th>1</th>\n",
       "      <td>2</td>\n",
       "      <td>13</td>\n",
       "      <td>116</td>\n",
       "      <td>48</td>\n",
       "      <td>0</td>\n",
       "      <td>0</td>\n",
       "      <td>190513</td>\n",
       "      <td>50713</td>\n",
       "      <td>3</td>\n",
       "      <td>1</td>\n",
       "      <td>1</td>\n",
       "      <td>385</td>\n",
       "      <td>4032012</td>\n",
       "      <td>13062013</td>\n",
       "      <td>244</td>\n",
       "    </tr>\n",
       "    <tr>\n",
       "      <th>2</th>\n",
       "      <td>7</td>\n",
       "      <td>13</td>\n",
       "      <td>644</td>\n",
       "      <td>1050</td>\n",
       "      <td>0</td>\n",
       "      <td>0</td>\n",
       "      <td>190513</td>\n",
       "      <td>50713</td>\n",
       "      <td>4</td>\n",
       "      <td>1</td>\n",
       "      <td>1</td>\n",
       "      <td>237</td>\n",
       "      <td>14022012</td>\n",
       "      <td>19062013</td>\n",
       "      <td>216</td>\n",
       "    </tr>\n",
       "    <tr>\n",
       "      <th>3</th>\n",
       "      <td>21</td>\n",
       "      <td>13</td>\n",
       "      <td>1028</td>\n",
       "      <td>89</td>\n",
       "      <td>0</td>\n",
       "      <td>0</td>\n",
       "      <td>190513</td>\n",
       "      <td>50713</td>\n",
       "      <td>6</td>\n",
       "      <td>1</td>\n",
       "      <td>1</td>\n",
       "      <td>668</td>\n",
       "      <td>6042012</td>\n",
       "      <td>28062013</td>\n",
       "      <td>498</td>\n",
       "    </tr>\n",
       "    <tr>\n",
       "      <th>4</th>\n",
       "      <td>23</td>\n",
       "      <td>13</td>\n",
       "      <td>517</td>\n",
       "      <td>1067</td>\n",
       "      <td>0</td>\n",
       "      <td>0</td>\n",
       "      <td>190513</td>\n",
       "      <td>50713</td>\n",
       "      <td>3</td>\n",
       "      <td>1</td>\n",
       "      <td>1</td>\n",
       "      <td>970</td>\n",
       "      <td>23032012</td>\n",
       "      <td>2072013</td>\n",
       "      <td>533</td>\n",
       "    </tr>\n",
       "  </tbody>\n",
       "</table>\n",
       "</div>"
      ],
      "text/plain": [
       "   id  campaign_id  coupon_id  customer_id  redemption_status  campaign_type  \\\n",
       "0   1           13         27         1053                  0              0   \n",
       "1   2           13        116           48                  0              0   \n",
       "2   7           13        644         1050                  0              0   \n",
       "3  21           13       1028           89                  0              0   \n",
       "4  23           13        517         1067                  0              0   \n",
       "\n",
       "   start_date  end_date  coupon_items_count  coupon_items_unique_brands  \\\n",
       "0      190513     50713                 125                           2   \n",
       "1      190513     50713                   3                           1   \n",
       "2      190513     50713                   4                           1   \n",
       "3      190513     50713                   6                           1   \n",
       "4      190513     50713                   3                           1   \n",
       "\n",
       "   coupon_items_unique_categories  transactions_count  \\\n",
       "0                               1                 310   \n",
       "1                               1                 385   \n",
       "2                               1                 237   \n",
       "3                               1                 668   \n",
       "4                               1                 970   \n",
       "\n",
       "   transactions_start_date  transactions_end_date  transactions_unique_items  \n",
       "0                 10012012                1072013                        208  \n",
       "1                  4032012               13062013                        244  \n",
       "2                 14022012               19062013                        216  \n",
       "3                  6042012               28062013                        498  \n",
       "4                 23032012                2072013                        533  "
      ]
     },
     "execution_count": 10,
     "metadata": {},
     "output_type": "execute_result"
    }
   ],
   "source": [
    "df_train_merged.head()"
   ]
  },
  {
   "cell_type": "code",
   "execution_count": 11,
   "metadata": {},
   "outputs": [
    {
     "data": {
      "text/html": [
       "<div>\n",
       "<style scoped>\n",
       "    .dataframe tbody tr th:only-of-type {\n",
       "        vertical-align: middle;\n",
       "    }\n",
       "\n",
       "    .dataframe tbody tr th {\n",
       "        vertical-align: top;\n",
       "    }\n",
       "\n",
       "    .dataframe thead th {\n",
       "        text-align: right;\n",
       "    }\n",
       "</style>\n",
       "<table border=\"1\" class=\"dataframe\">\n",
       "  <thead>\n",
       "    <tr style=\"text-align: right;\">\n",
       "      <th></th>\n",
       "      <th>id</th>\n",
       "      <th>campaign_id</th>\n",
       "      <th>coupon_id</th>\n",
       "      <th>customer_id</th>\n",
       "      <th>campaign_type</th>\n",
       "      <th>start_date</th>\n",
       "      <th>end_date</th>\n",
       "      <th>coupon_items_count</th>\n",
       "      <th>coupon_items_unique_brands</th>\n",
       "      <th>coupon_items_unique_categories</th>\n",
       "      <th>transactions_count</th>\n",
       "      <th>transactions_start_date</th>\n",
       "      <th>transactions_end_date</th>\n",
       "      <th>transactions_unique_items</th>\n",
       "    </tr>\n",
       "  </thead>\n",
       "  <tbody>\n",
       "    <tr>\n",
       "      <th>0</th>\n",
       "      <td>3</td>\n",
       "      <td>22</td>\n",
       "      <td>869</td>\n",
       "      <td>967</td>\n",
       "      <td>0</td>\n",
       "      <td>160913</td>\n",
       "      <td>181013</td>\n",
       "      <td>72</td>\n",
       "      <td>1</td>\n",
       "      <td>1</td>\n",
       "      <td>1362</td>\n",
       "      <td>25042012</td>\n",
       "      <td>27062013</td>\n",
       "      <td>658</td>\n",
       "    </tr>\n",
       "    <tr>\n",
       "      <th>1</th>\n",
       "      <td>5</td>\n",
       "      <td>22</td>\n",
       "      <td>981</td>\n",
       "      <td>510</td>\n",
       "      <td>0</td>\n",
       "      <td>160913</td>\n",
       "      <td>181013</td>\n",
       "      <td>19</td>\n",
       "      <td>1</td>\n",
       "      <td>1</td>\n",
       "      <td>1642</td>\n",
       "      <td>4032012</td>\n",
       "      <td>19062013</td>\n",
       "      <td>1019</td>\n",
       "    </tr>\n",
       "    <tr>\n",
       "      <th>2</th>\n",
       "      <td>16</td>\n",
       "      <td>22</td>\n",
       "      <td>1079</td>\n",
       "      <td>1186</td>\n",
       "      <td>0</td>\n",
       "      <td>160913</td>\n",
       "      <td>181013</td>\n",
       "      <td>62</td>\n",
       "      <td>1</td>\n",
       "      <td>1</td>\n",
       "      <td>1212</td>\n",
       "      <td>14042012</td>\n",
       "      <td>2072013</td>\n",
       "      <td>721</td>\n",
       "    </tr>\n",
       "    <tr>\n",
       "      <th>3</th>\n",
       "      <td>31</td>\n",
       "      <td>22</td>\n",
       "      <td>583</td>\n",
       "      <td>315</td>\n",
       "      <td>0</td>\n",
       "      <td>160913</td>\n",
       "      <td>181013</td>\n",
       "      <td>5</td>\n",
       "      <td>1</td>\n",
       "      <td>1</td>\n",
       "      <td>777</td>\n",
       "      <td>27042012</td>\n",
       "      <td>3072013</td>\n",
       "      <td>448</td>\n",
       "    </tr>\n",
       "    <tr>\n",
       "      <th>4</th>\n",
       "      <td>38</td>\n",
       "      <td>22</td>\n",
       "      <td>452</td>\n",
       "      <td>1323</td>\n",
       "      <td>0</td>\n",
       "      <td>160913</td>\n",
       "      <td>181013</td>\n",
       "      <td>21</td>\n",
       "      <td>1</td>\n",
       "      <td>1</td>\n",
       "      <td>945</td>\n",
       "      <td>4012012</td>\n",
       "      <td>24062013</td>\n",
       "      <td>561</td>\n",
       "    </tr>\n",
       "  </tbody>\n",
       "</table>\n",
       "</div>"
      ],
      "text/plain": [
       "   id  campaign_id  coupon_id  customer_id  campaign_type  start_date  \\\n",
       "0   3           22        869          967              0      160913   \n",
       "1   5           22        981          510              0      160913   \n",
       "2  16           22       1079         1186              0      160913   \n",
       "3  31           22        583          315              0      160913   \n",
       "4  38           22        452         1323              0      160913   \n",
       "\n",
       "   end_date  coupon_items_count  coupon_items_unique_brands  \\\n",
       "0    181013                  72                           1   \n",
       "1    181013                  19                           1   \n",
       "2    181013                  62                           1   \n",
       "3    181013                   5                           1   \n",
       "4    181013                  21                           1   \n",
       "\n",
       "   coupon_items_unique_categories  transactions_count  \\\n",
       "0                               1                1362   \n",
       "1                               1                1642   \n",
       "2                               1                1212   \n",
       "3                               1                 777   \n",
       "4                               1                 945   \n",
       "\n",
       "   transactions_start_date  transactions_end_date  transactions_unique_items  \n",
       "0                 25042012               27062013                        658  \n",
       "1                  4032012               19062013                       1019  \n",
       "2                 14042012                2072013                        721  \n",
       "3                 27042012                3072013                        448  \n",
       "4                  4012012               24062013                        561  "
      ]
     },
     "execution_count": 11,
     "metadata": {},
     "output_type": "execute_result"
    }
   ],
   "source": [
    "df_test_merged.head()"
   ]
  },
  {
   "cell_type": "markdown",
   "metadata": {},
   "source": [
    "### Model Training and Evaluation"
   ]
  },
  {
   "cell_type": "code",
   "execution_count": 12,
   "metadata": {},
   "outputs": [],
   "source": [
    "from sklearn.model_selection import train_test_split\n",
    "from sklearn.ensemble import RandomForestClassifier as RFC\n",
    "from sklearn.svm import SVC\n",
    "from sklearn.metrics import accuracy_score, balanced_accuracy_score, recall_score, precision_score, f1_score"
   ]
  },
  {
   "cell_type": "code",
   "execution_count": 13,
   "metadata": {},
   "outputs": [],
   "source": [
    "df_train_merged_X = df_train_merged.drop(['id', 'campaign_id', 'coupon_id', 'customer_id', 'redemption_status'], axis=1)\n",
    "df_train_merged_y = df_train_merged['redemption_status']"
   ]
  },
  {
   "cell_type": "code",
   "execution_count": 14,
   "metadata": {},
   "outputs": [
    {
     "name": "stdout",
     "output_type": "stream",
     "text": [
      "(62695, 10) (62695,)\n",
      "(15674, 10) (15674,)\n"
     ]
    }
   ],
   "source": [
    "x_train, x_test, y_train, y_test = train_test_split(df_train_merged_X, df_train_merged_y, random_state=0, test_size=.2, stratify=df_train_merged_y)\n",
    "\n",
    "print(x_train.shape, y_train.shape)\n",
    "print(x_test.shape, y_test.shape)"
   ]
  },
  {
   "cell_type": "code",
   "execution_count": 15,
   "metadata": {},
   "outputs": [
    {
     "name": "stderr",
     "output_type": "stream",
     "text": [
      "/home/ngarg/anaconda3/lib/python3.7/site-packages/sklearn/ensemble/forest.py:245: FutureWarning: The default value of n_estimators will change from 10 in version 0.20 to 100 in 0.22.\n",
      "  \"10 in version 0.20 to 100 in 0.22.\", FutureWarning)\n",
      "/home/ngarg/anaconda3/lib/python3.7/site-packages/sklearn/svm/base.py:193: FutureWarning: The default value of gamma will change from 'auto' to 'scale' in version 0.22 to account better for unscaled features. Set gamma explicitly to 'auto' or 'scale' to avoid this warning.\n",
      "  \"avoid this warning.\", FutureWarning)\n"
     ]
    }
   ],
   "source": [
    "rfc_model_1 = RFC(random_state=0)\n",
    "rfc_model_1.fit(x_train, y_train)\n",
    "rfc_model_1_y_hat = rfc_model_1.predict(x_test)\n",
    "rfc_model_1_accuracy = accuracy_score(y_test, rfc_model_1_y_hat)\n",
    "rfc_model_1_balanced_accuracy = balanced_accuracy_score(y_test, rfc_model_1_y_hat)\n",
    "rfc_model_1_recall = recall_score(y_test, rfc_model_1_y_hat, average='micro')\n",
    "rfc_model_1_precision = precision_score(y_test, rfc_model_1_y_hat, average='micro')\n",
    "rfc_model_1_f1 = f1_score(y_test, rfc_model_1_y_hat, average='micro')\n",
    "\n",
    "svc_model_1 = SVC(random_state=0)\n",
    "svc_model_1.fit(x_train, y_train)\n",
    "svc_model_1_y_hat = svc_model_1.predict(x_test)\n",
    "svc_model_1_accuracy = accuracy_score(y_test, svc_model_1_y_hat)\n",
    "svc_model_1_balanced_accuracy = balanced_accuracy_score(y_test, svc_model_1_y_hat)\n",
    "svc_model_1_recall = recall_score(y_test, svc_model_1_y_hat, average='micro')\n",
    "svc_model_1_precision = precision_score(y_test, svc_model_1_y_hat, average='micro')\n",
    "svc_model_1_f1 = f1_score(y_test, svc_model_1_y_hat, average='micro')"
   ]
  },
  {
   "cell_type": "code",
   "execution_count": 16,
   "metadata": {},
   "outputs": [
    {
     "name": "stdout",
     "output_type": "stream",
     "text": [
      "\n",
      "Model 1: RFC\n",
      "\tAcc\t:0.99\n",
      "\tBAcc\t:0.54\n",
      "\tRec\t:0.99\n",
      "\tPrec\t:0.99\n",
      "\tF1\t:0.99\n",
      "\n",
      "Model 2: SVC\n",
      "\tAcc\t:0.99\n",
      "\tBAcc\t:0.51\n",
      "\tRec\t:0.99\n",
      "\tPrec\t:0.99\n",
      "\tF1\t:0.99\n"
     ]
    }
   ],
   "source": [
    "print('\\nModel 1: RFC\\n\\tAcc\\t:{:.2f}\\n\\tBAcc\\t:{:.2f}\\n\\tRec\\t:{:.2f}\\n\\tPrec\\t:{:.2f}\\n\\tF1\\t:{:.2f}'.format(rfc_model_1_accuracy, \n",
    "                                                                                                               rfc_model_1_balanced_accuracy, \n",
    "                                                                                                               rfc_model_1_recall, \n",
    "                                                                                                               rfc_model_1_precision,\n",
    "                                                                                                               rfc_model_1_f1))\n",
    "print('\\nModel 2: SVC\\n\\tAcc\\t:{:.2f}\\n\\tBAcc\\t:{:.2f}\\n\\tRec\\t:{:.2f}\\n\\tPrec\\t:{:.2f}\\n\\tF1\\t:{:.2f}'.format(svc_model_1_accuracy, \n",
    "                                                                                                               svc_model_1_balanced_accuracy, \n",
    "                                                                                                               svc_model_1_recall, \n",
    "                                                                                                               svc_model_1_precision,\n",
    "                                                                                                               svc_model_1_f1))"
   ]
  },
  {
   "cell_type": "code",
   "execution_count": 17,
   "metadata": {},
   "outputs": [
    {
     "name": "stdout",
     "output_type": "stream",
     "text": [
      "0.5364798366891801 \t 0.5101129731179381\n"
     ]
    }
   ],
   "source": [
    "from sklearn.metrics import roc_auc_score\n",
    "rfc_model_1_auc = roc_auc_score(y_test, rfc_model_1_y_hat, average='micro')\n",
    "svc_model_1_auc = roc_auc_score(y_test, svc_model_1_y_hat, average='micro')\n",
    "print(rfc_model_1_auc, '\\t', svc_model_1_auc)"
   ]
  },
  {
   "cell_type": "code",
   "execution_count": 19,
   "metadata": {},
   "outputs": [
    {
     "data": {
      "text/plain": [
       "0    77640\n",
       "1      729\n",
       "Name: redemption_status, dtype: int64"
      ]
     },
     "execution_count": 19,
     "metadata": {},
     "output_type": "execute_result"
    }
   ],
   "source": [
    "df_train_merged.redemption_status.value_counts()"
   ]
  },
  {
   "cell_type": "markdown",
   "metadata": {},
   "source": [
    "## Ensure you wantch the video for a lot of pointers and advice I have given for this exercise and also in general for ML"
   ]
  }
 ],
 "metadata": {
  "kernelspec": {
   "display_name": "Python 3",
   "language": "python",
   "name": "python3"
  },
  "language_info": {
   "codemirror_mode": {
    "name": "ipython",
    "version": 3
   },
   "file_extension": ".py",
   "mimetype": "text/x-python",
   "name": "python",
   "nbconvert_exporter": "python",
   "pygments_lexer": "ipython3",
   "version": "3.7.4"
  }
 },
 "nbformat": 4,
 "nbformat_minor": 2
}
