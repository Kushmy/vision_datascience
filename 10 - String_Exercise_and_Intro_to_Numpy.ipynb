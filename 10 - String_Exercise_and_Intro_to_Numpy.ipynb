{
 "cells": [
  {
   "cell_type": "markdown",
   "metadata": {},
   "source": [
    "### Exercise"
   ]
  },
  {
   "cell_type": "markdown",
   "metadata": {},
   "source": [
    "#### Problem Description:\n",
    "You are provided with a list of strings with some details of new students joining your college program, in the following format:\n",
    "\n",
    "    [‘“P, Sudhakar” <sudhakar.p@frabjous.com> “28-MAR-2019”’, \n",
    "     ‘“Raghavendran, Sudip” <sragh@frabjous.com> “30/dec/2019”’,\n",
    "     ‘“Mayer, Anjana” <a.mayer@frabjous.com> “02 January, 2020”’]\n",
    "\n",
    "Process the input list to produce a list of tuples in the following format (after removing any duplicate tuples):\n",
    "\n",
    "    [(‘Sudhakar’, ‘P’, ‘sudhakar.p@frabjous.com’, 28, 3, 2019), \n",
    "     (‘Sudip’, ‘Raghavendran’, ‘sragh@frabjous.com’, 30, 12, 2019),\n",
    "     (‘Anjana’, ‘Mayer’, ‘a.mayer@frabjous.com’, 2, 1, 2020)]\n",
    "\n",
    "Note that the input date formats may vary, but it will always be the day followed by the month in words or its abbreviation, followed by the year in full.\n",
    "\n",
    "Write a procedural Python script using mappings (dictionary), sets and string methods without external modules (no imports)."
   ]
  },
  {
   "cell_type": "markdown",
   "metadata": {},
   "source": [
    "#### Solution Algorithm:\n",
    "\n",
    "0. new_list <- New Empty list\n",
    "1. Loop over the given input list of strings, processing one string at a time:\n",
    "2. &emsp;Extract first name by doing the following:\n",
    "3. &emsp;&emsp;2nd_part   <- Spilt the string at ',' and take the 2nd part\n",
    "4. &emsp;&emsp;first_name <- Split 2nd_part at '\"' and take the 1st part\n",
    "5. &emsp;Extract last name by doing the following:\n",
    "6. &emsp;&emsp;1st_part  <- Spilt the string at ',' and take the 1st part\n",
    "7. &emsp;&emsp;last_name <- Split 1st_part at '\"' and take the 2nd part\n",
    "8. &emsp;Extract email by doing the following:\n",
    "9. &emsp;&emsp;2nd_part <- Spilt the string at '<' and take the 2nd part\n",
    "10. &emsp;&emsp;email   <- Split 2nd_part at '>' and take the 1st part\n",
    "11. &emsp;Extract date parts by doing the following:\n",
    "12. &emsp;&emsp;2nd_part    <- Spilt the string at '>' and take the 2nd part\n",
    "13. &emsp;&emsp;2nd_part    <- Spilt 2nd_part at '\"' and take the 2nd part\n",
    "14. &emsp;&emsp;date_string <- Convert 2nd_part to lower case\n",
    "15. &emsp;&emsp;day_part    <- Slice first 2 characters from date_string\n",
    "16. &emsp;&emsp;month_part  <- Slice 4th character to 5th last character from date_string\n",
    "17. &emsp;&emsp;month_part  <- Remove ',' character if present from month_part\n",
    "18. &emsp;&emsp;month_part  <- Convert to number using dictionary mapping\n",
    "19. &emsp;&emsp;year_part   <- Slice last 4 characters from date_string\n",
    "20. &emsp;Create a tuple from the extracted parts and append the tuple to new_list\n",
    "21. To remove possible duplicates, convert new_list to a set and then convert it back to a list"
   ]
  },
  {
   "cell_type": "code",
   "execution_count": 1,
   "metadata": {},
   "outputs": [],
   "source": [
    "raw_data = ['\"P, Sudhakar\" <sudhakar.p@frabjous.com> \"28-MAR-2019\"', \n",
    "            '\"Mayer, Anjana\" <a.mayer@frabjous.com> \"02.jan.2020\"', \n",
    "            '\"Raghavendran, Sudip\" <sragh@frabjous.com> \"30/dec/2019\"', \n",
    "            '\"Mayer, Anjana\" <a.mayer@frabjous.com> \"02 January, 2020\"']"
   ]
  },
  {
   "cell_type": "code",
   "execution_count": 2,
   "metadata": {},
   "outputs": [],
   "source": [
    "month_mapping = {'jan': 1, 'january': 1,\n",
    "                 'feb': 2, 'february': 2,\n",
    "                 'mar': 3, 'march': 3,\n",
    "                 'apr': 4, 'april': 4,\n",
    "                 'may': 5, \n",
    "                 'jun': 6, 'june': 6,\n",
    "                 'jul': 7, 'july': 7,\n",
    "                 'aug': 8, 'august': 8,\n",
    "                 'sep': 9, 'september': 9,\n",
    "                 'oct': 10, 'october': 10,\n",
    "                 'nov': 11, 'november': 11,\n",
    "                 'dec': 12, 'december': 12}"
   ]
  },
  {
   "cell_type": "code",
   "execution_count": 3,
   "metadata": {},
   "outputs": [],
   "source": [
    "def extract_first_name(student_details):\n",
    "    \n",
    "    first_name = student_details.split(',')[1]\n",
    "    first_name = first_name.split('\"')[0]\n",
    "    \n",
    "    return first_name.strip()"
   ]
  },
  {
   "cell_type": "code",
   "execution_count": 4,
   "metadata": {},
   "outputs": [],
   "source": [
    "def extract_last_name(student_details):\n",
    "    \n",
    "    last_name = student_details.split(',')[0]\n",
    "    last_name = last_name.split('\"')[1]\n",
    "    \n",
    "    return last_name.strip()"
   ]
  },
  {
   "cell_type": "code",
   "execution_count": 5,
   "metadata": {},
   "outputs": [],
   "source": [
    "def extract_email_address(student_details):\n",
    "    \n",
    "    email_address = student_details.split('<')[1]\n",
    "    email_address = email_address.split('>')[0]\n",
    "    \n",
    "    return email_address.strip()"
   ]
  },
  {
   "cell_type": "code",
   "execution_count": 6,
   "metadata": {},
   "outputs": [],
   "source": [
    "def extract_date_parts(student_details):\n",
    "    \n",
    "    date_str = student_details.split('>')[1]\n",
    "    date_str = date_str.split('\"')[1]\n",
    "    date_str = date_str.strip().lower()\n",
    "    \n",
    "    day_part = int(date_str[:2])\n",
    "    month_part = date_str[3:-5].strip()\n",
    "    month_part = month_part.replace(',', '')\n",
    "    month_part = month_mapping[month_part]\n",
    "    year_part = int(date_str[-4:])\n",
    "    \n",
    "    return day_part, month_part, year_part"
   ]
  },
  {
   "cell_type": "code",
   "execution_count": 7,
   "metadata": {},
   "outputs": [],
   "source": [
    "def extract_details(raw_data):\n",
    "    \n",
    "    processed_data = []\n",
    "\n",
    "    for student_detail in raw_data:\n",
    "\n",
    "        date_part_day, date_part_month, date_part_year = extract_date_parts(student_detail)\n",
    "\n",
    "        processed_data.append((extract_first_name(student_detail), \n",
    "                               extract_last_name(student_detail), \n",
    "                               extract_email_address(student_detail), \n",
    "                               date_part_day, \n",
    "                               date_part_month, \n",
    "                               date_part_year))\n",
    "        \n",
    "    return processed_data"
   ]
  },
  {
   "cell_type": "code",
   "execution_count": 8,
   "metadata": {},
   "outputs": [
    {
     "data": {
      "text/plain": [
       "[('Sudhakar', 'P', 'sudhakar.p@frabjous.com', 28, 3, 2019),\n",
       " ('Anjana', 'Mayer', 'a.mayer@frabjous.com', 2, 1, 2020),\n",
       " ('Sudip', 'Raghavendran', 'sragh@frabjous.com', 30, 12, 2019)]"
      ]
     },
     "execution_count": 8,
     "metadata": {},
     "output_type": "execute_result"
    }
   ],
   "source": [
    "list(set(extract_details(raw_data))) # Using set to remove duplicates"
   ]
  },
  {
   "cell_type": "markdown",
   "metadata": {},
   "source": [
    "### Introduction to Numpy"
   ]
  },
  {
   "cell_type": "markdown",
   "metadata": {},
   "source": [
    "#### First, a demonstration of numeric manipulation using list"
   ]
  },
  {
   "cell_type": "code",
   "execution_count": 9,
   "metadata": {},
   "outputs": [],
   "source": [
    "temperatures_past_week_in_c = [25.0, 23.8, 26.7, 22.2, 29.0] # in Celcius"
   ]
  },
  {
   "cell_type": "markdown",
   "metadata": {},
   "source": [
    "#### Naive approach"
   ]
  },
  {
   "cell_type": "code",
   "execution_count": 10,
   "metadata": {},
   "outputs": [],
   "source": [
    "temperatures_past_week_in_f = []\n",
    "for c in temperatures_past_week_in_c:\n",
    "    temperatures_past_week_in_f.append((c * 9/5) + 32)"
   ]
  },
  {
   "cell_type": "markdown",
   "metadata": {},
   "source": [
    "#### Using list comprehension"
   ]
  },
  {
   "cell_type": "code",
   "execution_count": 11,
   "metadata": {},
   "outputs": [],
   "source": [
    "temperatures_past_week_in_f = [((c * 9/5) + 32) for c in temperatures_past_week_in_c]"
   ]
  },
  {
   "cell_type": "code",
   "execution_count": 12,
   "metadata": {},
   "outputs": [
    {
     "data": {
      "text/plain": [
       "[77.0, 74.84, 80.06, 71.96, 84.2]"
      ]
     },
     "execution_count": 12,
     "metadata": {},
     "output_type": "execute_result"
    }
   ],
   "source": [
    "temperatures_past_week_in_f"
   ]
  },
  {
   "cell_type": "markdown",
   "metadata": {},
   "source": [
    "#### Now, we look at how to do this in Numpy"
   ]
  },
  {
   "cell_type": "code",
   "execution_count": 13,
   "metadata": {},
   "outputs": [],
   "source": [
    "import numpy"
   ]
  },
  {
   "cell_type": "code",
   "execution_count": 14,
   "metadata": {},
   "outputs": [],
   "source": [
    "num_c = numpy.array(temperatures_past_week_in_c) # create ndarray from the list we already have"
   ]
  },
  {
   "cell_type": "code",
   "execution_count": 15,
   "metadata": {},
   "outputs": [
    {
     "data": {
      "text/plain": [
       "array([25. , 23.8, 26.7, 22.2, 29. ])"
      ]
     },
     "execution_count": 15,
     "metadata": {},
     "output_type": "execute_result"
    }
   ],
   "source": [
    "num_c"
   ]
  },
  {
   "cell_type": "markdown",
   "metadata": {},
   "source": [
    "#### First, lets look at some of the ndarray properties"
   ]
  },
  {
   "cell_type": "code",
   "execution_count": 16,
   "metadata": {},
   "outputs": [
    {
     "data": {
      "text/plain": [
       "1"
      ]
     },
     "execution_count": 16,
     "metadata": {},
     "output_type": "execute_result"
    }
   ],
   "source": [
    "num_c.ndim # number of dimensions (also called axes)"
   ]
  },
  {
   "cell_type": "code",
   "execution_count": 17,
   "metadata": {},
   "outputs": [
    {
     "data": {
      "text/plain": [
       "(5,)"
      ]
     },
     "execution_count": 17,
     "metadata": {},
     "output_type": "execute_result"
    }
   ],
   "source": [
    "num_c.shape # number of elements per axis"
   ]
  },
  {
   "cell_type": "code",
   "execution_count": 18,
   "metadata": {},
   "outputs": [
    {
     "data": {
      "text/plain": [
       "5"
      ]
     },
     "execution_count": 18,
     "metadata": {},
     "output_type": "execute_result"
    }
   ],
   "source": [
    "num_c.size # total number of elements"
   ]
  },
  {
   "cell_type": "code",
   "execution_count": 19,
   "metadata": {},
   "outputs": [
    {
     "data": {
      "text/plain": [
       "dtype('float64')"
      ]
     },
     "execution_count": 19,
     "metadata": {},
     "output_type": "execute_result"
    }
   ],
   "source": [
    "num_c.dtype"
   ]
  },
  {
   "cell_type": "code",
   "execution_count": 20,
   "metadata": {},
   "outputs": [
    {
     "data": {
      "text/plain": [
       "8"
      ]
     },
     "execution_count": 20,
     "metadata": {},
     "output_type": "execute_result"
    }
   ],
   "source": [
    "num_c.itemsize # in bytes, per element"
   ]
  },
  {
   "cell_type": "code",
   "execution_count": 21,
   "metadata": {},
   "outputs": [
    {
     "data": {
      "text/plain": [
       "<memory at 0x7f71ded83ef0>"
      ]
     },
     "execution_count": 21,
     "metadata": {},
     "output_type": "execute_result"
    }
   ],
   "source": [
    "num_c.data # memory location of the first element"
   ]
  },
  {
   "cell_type": "markdown",
   "metadata": {},
   "source": [
    "#### Vectorized code!"
   ]
  },
  {
   "cell_type": "code",
   "execution_count": 22,
   "metadata": {},
   "outputs": [],
   "source": [
    "num_f = num_c * 9/5 + 32"
   ]
  },
  {
   "cell_type": "code",
   "execution_count": 23,
   "metadata": {},
   "outputs": [
    {
     "data": {
      "text/plain": [
       "array([77.  , 74.84, 80.06, 71.96, 84.2 ])"
      ]
     },
     "execution_count": 23,
     "metadata": {},
     "output_type": "execute_result"
    }
   ],
   "source": [
    "num_f"
   ]
  },
  {
   "cell_type": "markdown",
   "metadata": {},
   "source": [
    "#### Slicing: remember that in Numpy, a slice referes to the original data and is not a copy"
   ]
  },
  {
   "cell_type": "code",
   "execution_count": 24,
   "metadata": {},
   "outputs": [],
   "source": [
    "some_num_c = num_c[2:4]"
   ]
  },
  {
   "cell_type": "code",
   "execution_count": 25,
   "metadata": {},
   "outputs": [
    {
     "data": {
      "text/plain": [
       "array([26.7, 22.2])"
      ]
     },
     "execution_count": 25,
     "metadata": {},
     "output_type": "execute_result"
    }
   ],
   "source": [
    "some_num_c"
   ]
  },
  {
   "cell_type": "code",
   "execution_count": 26,
   "metadata": {},
   "outputs": [],
   "source": [
    "some_num_c[1] += 10"
   ]
  },
  {
   "cell_type": "code",
   "execution_count": 27,
   "metadata": {},
   "outputs": [
    {
     "data": {
      "text/plain": [
       "array([26.7, 32.2])"
      ]
     },
     "execution_count": 27,
     "metadata": {},
     "output_type": "execute_result"
    }
   ],
   "source": [
    "some_num_c"
   ]
  },
  {
   "cell_type": "code",
   "execution_count": 28,
   "metadata": {},
   "outputs": [
    {
     "data": {
      "text/plain": [
       "array([25. , 23.8, 26.7, 32.2, 29. ])"
      ]
     },
     "execution_count": 28,
     "metadata": {},
     "output_type": "execute_result"
    }
   ],
   "source": [
    "num_c"
   ]
  },
  {
   "cell_type": "markdown",
   "metadata": {},
   "source": [
    "#### Basic methods "
   ]
  },
  {
   "cell_type": "code",
   "execution_count": 29,
   "metadata": {},
   "outputs": [
    {
     "data": {
      "text/plain": [
       "23.8"
      ]
     },
     "execution_count": 29,
     "metadata": {},
     "output_type": "execute_result"
    }
   ],
   "source": [
    "num_c.min()"
   ]
  },
  {
   "cell_type": "code",
   "execution_count": 30,
   "metadata": {},
   "outputs": [
    {
     "data": {
      "text/plain": [
       "32.2"
      ]
     },
     "execution_count": 30,
     "metadata": {},
     "output_type": "execute_result"
    }
   ],
   "source": [
    "num_c.max()"
   ]
  },
  {
   "cell_type": "code",
   "execution_count": 31,
   "metadata": {},
   "outputs": [
    {
     "data": {
      "text/plain": [
       "136.7"
      ]
     },
     "execution_count": 31,
     "metadata": {},
     "output_type": "execute_result"
    }
   ],
   "source": [
    "num_c.sum()"
   ]
  },
  {
   "cell_type": "code",
   "execution_count": 32,
   "metadata": {},
   "outputs": [
    {
     "data": {
      "text/plain": [
       "27.339999999999996"
      ]
     },
     "execution_count": 32,
     "metadata": {},
     "output_type": "execute_result"
    }
   ],
   "source": [
    "num_c.mean()"
   ]
  },
  {
   "cell_type": "code",
   "execution_count": 33,
   "metadata": {},
   "outputs": [
    {
     "data": {
      "text/plain": [
       "2.993058636244871"
      ]
     },
     "execution_count": 33,
     "metadata": {},
     "output_type": "execute_result"
    }
   ],
   "source": [
    "num_c.std()"
   ]
  },
  {
   "cell_type": "markdown",
   "metadata": {},
   "source": [
    "#### A taste of multi-dimensional ndarrays"
   ]
  },
  {
   "cell_type": "code",
   "execution_count": 34,
   "metadata": {},
   "outputs": [],
   "source": [
    "student_stats = numpy.array([(25.0, 90.0, 80.5), (28.0, 95.5, 85.0)])"
   ]
  },
  {
   "cell_type": "code",
   "execution_count": 35,
   "metadata": {},
   "outputs": [
    {
     "data": {
      "text/plain": [
       "array([[25. , 90. , 80.5],\n",
       "       [28. , 95.5, 85. ]])"
      ]
     },
     "execution_count": 35,
     "metadata": {},
     "output_type": "execute_result"
    }
   ],
   "source": [
    "student_stats"
   ]
  },
  {
   "cell_type": "code",
   "execution_count": 36,
   "metadata": {},
   "outputs": [
    {
     "data": {
      "text/plain": [
       "2"
      ]
     },
     "execution_count": 36,
     "metadata": {},
     "output_type": "execute_result"
    }
   ],
   "source": [
    "student_stats.ndim"
   ]
  },
  {
   "cell_type": "code",
   "execution_count": 37,
   "metadata": {},
   "outputs": [
    {
     "data": {
      "text/plain": [
       "(2, 3)"
      ]
     },
     "execution_count": 37,
     "metadata": {},
     "output_type": "execute_result"
    }
   ],
   "source": [
    "student_stats.shape"
   ]
  },
  {
   "cell_type": "code",
   "execution_count": 38,
   "metadata": {},
   "outputs": [
    {
     "data": {
      "text/plain": [
       "6"
      ]
     },
     "execution_count": 38,
     "metadata": {},
     "output_type": "execute_result"
    }
   ],
   "source": [
    "student_stats.size"
   ]
  },
  {
   "cell_type": "code",
   "execution_count": 39,
   "metadata": {},
   "outputs": [
    {
     "data": {
      "text/plain": [
       "dtype('float64')"
      ]
     },
     "execution_count": 39,
     "metadata": {},
     "output_type": "execute_result"
    }
   ],
   "source": [
    "student_stats.dtype"
   ]
  },
  {
   "cell_type": "markdown",
   "metadata": {},
   "source": [
    "#### Flatten a multi-dimensional array using ravel()"
   ]
  },
  {
   "cell_type": "code",
   "execution_count": 40,
   "metadata": {},
   "outputs": [],
   "source": [
    "student_stats_flattened = student_stats.ravel()"
   ]
  },
  {
   "cell_type": "code",
   "execution_count": 41,
   "metadata": {},
   "outputs": [
    {
     "data": {
      "text/plain": [
       "array([25. , 90. , 80.5, 28. , 95.5, 85. ])"
      ]
     },
     "execution_count": 41,
     "metadata": {},
     "output_type": "execute_result"
    }
   ],
   "source": [
    "student_stats_flattened"
   ]
  },
  {
   "cell_type": "markdown",
   "metadata": {},
   "source": [
    "#### Change the shape of an ndarray using reshape()"
   ]
  },
  {
   "cell_type": "code",
   "execution_count": 42,
   "metadata": {},
   "outputs": [],
   "source": [
    "student_stats_reshaped = student_stats_flattened.reshape(3, 2)"
   ]
  },
  {
   "cell_type": "code",
   "execution_count": 43,
   "metadata": {},
   "outputs": [
    {
     "data": {
      "text/plain": [
       "array([[25. , 90. ],\n",
       "       [80.5, 28. ],\n",
       "       [95.5, 85. ]])"
      ]
     },
     "execution_count": 43,
     "metadata": {},
     "output_type": "execute_result"
    }
   ],
   "source": [
    "student_stats_reshaped"
   ]
  }
 ],
 "metadata": {
  "kernelspec": {
   "display_name": "Python 3",
   "language": "python",
   "name": "python3"
  },
  "language_info": {
   "codemirror_mode": {
    "name": "ipython",
    "version": 3
   },
   "file_extension": ".py",
   "mimetype": "text/x-python",
   "name": "python",
   "nbconvert_exporter": "python",
   "pygments_lexer": "ipython3",
   "version": "3.7.4"
  }
 },
 "nbformat": 4,
 "nbformat_minor": 2
}
