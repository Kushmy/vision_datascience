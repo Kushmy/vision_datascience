{
 "cells": [
  {
   "cell_type": "code",
   "execution_count": 1,
   "metadata": {},
   "outputs": [],
   "source": [
    "import pandas as pd"
   ]
  },
  {
   "cell_type": "code",
   "execution_count": 2,
   "metadata": {},
   "outputs": [],
   "source": [
    "file_path = 'demo1_historic.csv'\n",
    "df_student_historic_raw_data = pd.read_csv(file_path)"
   ]
  },
  {
   "cell_type": "code",
   "execution_count": 3,
   "metadata": {},
   "outputs": [
    {
     "data": {
      "text/plain": [
       "(1000, 10)"
      ]
     },
     "execution_count": 3,
     "metadata": {},
     "output_type": "execute_result"
    }
   ],
   "source": [
    "df_student_historic_raw_data.shape"
   ]
  },
  {
   "cell_type": "code",
   "execution_count": 4,
   "metadata": {
    "scrolled": false
   },
   "outputs": [
    {
     "data": {
      "text/html": [
       "<div>\n",
       "<style scoped>\n",
       "    .dataframe tbody tr th:only-of-type {\n",
       "        vertical-align: middle;\n",
       "    }\n",
       "\n",
       "    .dataframe tbody tr th {\n",
       "        vertical-align: top;\n",
       "    }\n",
       "\n",
       "    .dataframe thead th {\n",
       "        text-align: right;\n",
       "    }\n",
       "</style>\n",
       "<table border=\"1\" class=\"dataframe\">\n",
       "  <thead>\n",
       "    <tr style=\"text-align: right;\">\n",
       "      <th></th>\n",
       "      <th>ID</th>\n",
       "      <th>Age</th>\n",
       "      <th>Is_Married</th>\n",
       "      <th>Has_Children</th>\n",
       "      <th>Children_Count</th>\n",
       "      <th>Home_Distance</th>\n",
       "      <th>Drinks_Tea</th>\n",
       "      <th>Lectures_Missed</th>\n",
       "      <th>Average_Assignments_Score</th>\n",
       "      <th>Exam_Result</th>\n",
       "    </tr>\n",
       "  </thead>\n",
       "  <tbody>\n",
       "    <tr>\n",
       "      <th>0</th>\n",
       "      <td>S1</td>\n",
       "      <td>41</td>\n",
       "      <td>1</td>\n",
       "      <td>1</td>\n",
       "      <td>3</td>\n",
       "      <td>23</td>\n",
       "      <td>0</td>\n",
       "      <td>1</td>\n",
       "      <td>41</td>\n",
       "      <td>1</td>\n",
       "    </tr>\n",
       "    <tr>\n",
       "      <th>1</th>\n",
       "      <td>S2</td>\n",
       "      <td>37</td>\n",
       "      <td>0</td>\n",
       "      <td>0</td>\n",
       "      <td>0</td>\n",
       "      <td>5</td>\n",
       "      <td>1</td>\n",
       "      <td>8</td>\n",
       "      <td>75</td>\n",
       "      <td>1</td>\n",
       "    </tr>\n",
       "    <tr>\n",
       "      <th>2</th>\n",
       "      <td>S3</td>\n",
       "      <td>49</td>\n",
       "      <td>0</td>\n",
       "      <td>0</td>\n",
       "      <td>0</td>\n",
       "      <td>44</td>\n",
       "      <td>1</td>\n",
       "      <td>9</td>\n",
       "      <td>52</td>\n",
       "      <td>1</td>\n",
       "    </tr>\n",
       "    <tr>\n",
       "      <th>3</th>\n",
       "      <td>S4</td>\n",
       "      <td>24</td>\n",
       "      <td>0</td>\n",
       "      <td>0</td>\n",
       "      <td>0</td>\n",
       "      <td>40</td>\n",
       "      <td>1</td>\n",
       "      <td>1</td>\n",
       "      <td>54</td>\n",
       "      <td>1</td>\n",
       "    </tr>\n",
       "    <tr>\n",
       "      <th>4</th>\n",
       "      <td>S5</td>\n",
       "      <td>48</td>\n",
       "      <td>1</td>\n",
       "      <td>1</td>\n",
       "      <td>3</td>\n",
       "      <td>36</td>\n",
       "      <td>0</td>\n",
       "      <td>2</td>\n",
       "      <td>32</td>\n",
       "      <td>1</td>\n",
       "    </tr>\n",
       "  </tbody>\n",
       "</table>\n",
       "</div>"
      ],
      "text/plain": [
       "   ID  Age  Is_Married  Has_Children  Children_Count  Home_Distance  \\\n",
       "0  S1   41           1             1               3             23   \n",
       "1  S2   37           0             0               0              5   \n",
       "2  S3   49           0             0               0             44   \n",
       "3  S4   24           0             0               0             40   \n",
       "4  S5   48           1             1               3             36   \n",
       "\n",
       "   Drinks_Tea  Lectures_Missed  Average_Assignments_Score  Exam_Result  \n",
       "0           0                1                         41            1  \n",
       "1           1                8                         75            1  \n",
       "2           1                9                         52            1  \n",
       "3           1                1                         54            1  \n",
       "4           0                2                         32            1  "
      ]
     },
     "execution_count": 4,
     "metadata": {},
     "output_type": "execute_result"
    }
   ],
   "source": [
    "df_student_historic_raw_data.head()"
   ]
  },
  {
   "cell_type": "code",
   "execution_count": 5,
   "metadata": {},
   "outputs": [
    {
     "data": {
      "text/html": [
       "<div>\n",
       "<style scoped>\n",
       "    .dataframe tbody tr th:only-of-type {\n",
       "        vertical-align: middle;\n",
       "    }\n",
       "\n",
       "    .dataframe tbody tr th {\n",
       "        vertical-align: top;\n",
       "    }\n",
       "\n",
       "    .dataframe thead th {\n",
       "        text-align: right;\n",
       "    }\n",
       "</style>\n",
       "<table border=\"1\" class=\"dataframe\">\n",
       "  <thead>\n",
       "    <tr style=\"text-align: right;\">\n",
       "      <th></th>\n",
       "      <th>ID</th>\n",
       "      <th>Age</th>\n",
       "      <th>Is_Married</th>\n",
       "      <th>Has_Children</th>\n",
       "      <th>Children_Count</th>\n",
       "      <th>Home_Distance</th>\n",
       "      <th>Drinks_Tea</th>\n",
       "      <th>Lectures_Missed</th>\n",
       "      <th>Average_Assignments_Score</th>\n",
       "      <th>Exam_Result</th>\n",
       "    </tr>\n",
       "  </thead>\n",
       "  <tbody>\n",
       "  </tbody>\n",
       "</table>\n",
       "</div>"
      ],
      "text/plain": [
       "Empty DataFrame\n",
       "Columns: [ID, Age, Is_Married, Has_Children, Children_Count, Home_Distance, Drinks_Tea, Lectures_Missed, Average_Assignments_Score, Exam_Result]\n",
       "Index: []"
      ]
     },
     "execution_count": 5,
     "metadata": {},
     "output_type": "execute_result"
    }
   ],
   "source": [
    "df_student_historic_raw_data.query('Has_Children==0 and Children_Count>0')"
   ]
  },
  {
   "cell_type": "code",
   "execution_count": 6,
   "metadata": {},
   "outputs": [
    {
     "data": {
      "text/html": [
       "<div>\n",
       "<style scoped>\n",
       "    .dataframe tbody tr th:only-of-type {\n",
       "        vertical-align: middle;\n",
       "    }\n",
       "\n",
       "    .dataframe tbody tr th {\n",
       "        vertical-align: top;\n",
       "    }\n",
       "\n",
       "    .dataframe thead th {\n",
       "        text-align: right;\n",
       "    }\n",
       "</style>\n",
       "<table border=\"1\" class=\"dataframe\">\n",
       "  <thead>\n",
       "    <tr style=\"text-align: right;\">\n",
       "      <th></th>\n",
       "      <th>ID</th>\n",
       "      <th>Age</th>\n",
       "      <th>Is_Married</th>\n",
       "      <th>Has_Children</th>\n",
       "      <th>Children_Count</th>\n",
       "      <th>Home_Distance</th>\n",
       "      <th>Drinks_Tea</th>\n",
       "      <th>Lectures_Missed</th>\n",
       "      <th>Average_Assignments_Score</th>\n",
       "      <th>Exam_Result</th>\n",
       "    </tr>\n",
       "  </thead>\n",
       "  <tbody>\n",
       "  </tbody>\n",
       "</table>\n",
       "</div>"
      ],
      "text/plain": [
       "Empty DataFrame\n",
       "Columns: [ID, Age, Is_Married, Has_Children, Children_Count, Home_Distance, Drinks_Tea, Lectures_Missed, Average_Assignments_Score, Exam_Result]\n",
       "Index: []"
      ]
     },
     "execution_count": 6,
     "metadata": {},
     "output_type": "execute_result"
    }
   ],
   "source": [
    "df_student_historic_raw_data.query('Has_Children==1 and Children_Count==0')"
   ]
  },
  {
   "cell_type": "markdown",
   "metadata": {},
   "source": [
    "### Feature selection and data splitting"
   ]
  },
  {
   "cell_type": "code",
   "execution_count": 7,
   "metadata": {},
   "outputs": [
    {
     "data": {
      "text/plain": [
       "(1000, 8)"
      ]
     },
     "execution_count": 7,
     "metadata": {},
     "output_type": "execute_result"
    }
   ],
   "source": [
    "features = df_student_historic_raw_data.drop(['ID', 'Exam_Result'], axis=1)\n",
    "features.shape"
   ]
  },
  {
   "cell_type": "code",
   "execution_count": 8,
   "metadata": {},
   "outputs": [
    {
     "data": {
      "text/plain": [
       "(1000,)"
      ]
     },
     "execution_count": 8,
     "metadata": {},
     "output_type": "execute_result"
    }
   ],
   "source": [
    "labels = df_student_historic_raw_data['Exam_Result']\n",
    "labels.shape"
   ]
  },
  {
   "cell_type": "code",
   "execution_count": 9,
   "metadata": {},
   "outputs": [
    {
     "name": "stdout",
     "output_type": "stream",
     "text": [
      "(750, 8) (750,)\n",
      "(250, 8) (250,)\n"
     ]
    }
   ],
   "source": [
    "from sklearn.model_selection import train_test_split\n",
    "\n",
    "x_train, x_test, y_train, y_test = train_test_split(features, labels, random_state=0)\n",
    "\n",
    "print(x_train.shape, y_train.shape)\n",
    "print(x_test.shape, y_test.shape)"
   ]
  },
  {
   "cell_type": "code",
   "execution_count": 10,
   "metadata": {},
   "outputs": [
    {
     "data": {
      "text/plain": [
       "pandas.core.series.Series"
      ]
     },
     "execution_count": 10,
     "metadata": {},
     "output_type": "execute_result"
    }
   ],
   "source": [
    "type(y_test)"
   ]
  },
  {
   "cell_type": "markdown",
   "metadata": {},
   "source": [
    "### Trying RFC for classification task (classifying result as fail or pass)"
   ]
  },
  {
   "cell_type": "code",
   "execution_count": 11,
   "metadata": {},
   "outputs": [
    {
     "name": "stderr",
     "output_type": "stream",
     "text": [
      "/home/ngarg/anaconda3/lib/python3.7/site-packages/sklearn/ensemble/forest.py:245: FutureWarning: The default value of n_estimators will change from 10 in version 0.20 to 100 in 0.22.\n",
      "  \"10 in version 0.20 to 100 in 0.22.\", FutureWarning)\n"
     ]
    },
    {
     "data": {
      "text/plain": [
       "RandomForestClassifier(bootstrap=True, class_weight=None, criterion='gini',\n",
       "                       max_depth=None, max_features='auto', max_leaf_nodes=None,\n",
       "                       min_impurity_decrease=0.0, min_impurity_split=None,\n",
       "                       min_samples_leaf=1, min_samples_split=2,\n",
       "                       min_weight_fraction_leaf=0.0, n_estimators=10,\n",
       "                       n_jobs=None, oob_score=False, random_state=0, verbose=0,\n",
       "                       warm_start=False)"
      ]
     },
     "execution_count": 11,
     "metadata": {},
     "output_type": "execute_result"
    }
   ],
   "source": [
    "from sklearn.ensemble import RandomForestClassifier as RFC\n",
    "\n",
    "rfc_model_1 = RFC(random_state=0)\n",
    "\n",
    "rfc_model_1.fit(x_train, y_train)"
   ]
  },
  {
   "cell_type": "markdown",
   "metadata": {},
   "source": [
    "### Evaluating the trained RFC model using the test set"
   ]
  },
  {
   "cell_type": "code",
   "execution_count": 12,
   "metadata": {},
   "outputs": [],
   "source": [
    "y_hat = rfc_model_1.predict(x_test)"
   ]
  },
  {
   "cell_type": "code",
   "execution_count": 13,
   "metadata": {},
   "outputs": [
    {
     "data": {
      "text/plain": [
       "numpy.ndarray"
      ]
     },
     "execution_count": 13,
     "metadata": {},
     "output_type": "execute_result"
    }
   ],
   "source": [
    "type(y_hat)"
   ]
  },
  {
   "cell_type": "code",
   "execution_count": 14,
   "metadata": {},
   "outputs": [
    {
     "data": {
      "text/html": [
       "<div>\n",
       "<style scoped>\n",
       "    .dataframe tbody tr th:only-of-type {\n",
       "        vertical-align: middle;\n",
       "    }\n",
       "\n",
       "    .dataframe tbody tr th {\n",
       "        vertical-align: top;\n",
       "    }\n",
       "\n",
       "    .dataframe thead th {\n",
       "        text-align: right;\n",
       "    }\n",
       "</style>\n",
       "<table border=\"1\" class=\"dataframe\">\n",
       "  <thead>\n",
       "    <tr style=\"text-align: right;\">\n",
       "      <th>Predicted</th>\n",
       "      <th>0</th>\n",
       "      <th>1</th>\n",
       "    </tr>\n",
       "    <tr>\n",
       "      <th>Actual</th>\n",
       "      <th></th>\n",
       "      <th></th>\n",
       "    </tr>\n",
       "  </thead>\n",
       "  <tbody>\n",
       "    <tr>\n",
       "      <th>0</th>\n",
       "      <td>45</td>\n",
       "      <td>52</td>\n",
       "    </tr>\n",
       "    <tr>\n",
       "      <th>1</th>\n",
       "      <td>34</td>\n",
       "      <td>119</td>\n",
       "    </tr>\n",
       "  </tbody>\n",
       "</table>\n",
       "</div>"
      ],
      "text/plain": [
       " Predicted   0    1\n",
       "Actual             \n",
       "0           45   52\n",
       "1           34  119"
      ]
     },
     "execution_count": 14,
     "metadata": {},
     "output_type": "execute_result"
    }
   ],
   "source": [
    "y_actual = pd.Series(y_test.values, name='Actual')\n",
    "y_predicted = pd.Series(y_hat, name=' Predicted')\n",
    "cm = pd.crosstab(y_actual, y_predicted)\n",
    "cm"
   ]
  },
  {
   "cell_type": "code",
   "execution_count": 15,
   "metadata": {},
   "outputs": [
    {
     "name": "stdout",
     "output_type": "stream",
     "text": [
      "Accuracy Score:  0.656\n"
     ]
    }
   ],
   "source": [
    "from sklearn.metrics import accuracy_score\n",
    "\n",
    "print('Accuracy Score: ', accuracy_score(y_test, y_hat))"
   ]
  },
  {
   "cell_type": "markdown",
   "metadata": {},
   "source": [
    "### Tuning the model using GridSearchCV"
   ]
  },
  {
   "cell_type": "code",
   "execution_count": 16,
   "metadata": {},
   "outputs": [
    {
     "name": "stdout",
     "output_type": "stream",
     "text": [
      "{'max_features': None, 'n_estimators': 80}\n"
     ]
    },
    {
     "name": "stderr",
     "output_type": "stream",
     "text": [
      "/home/ngarg/anaconda3/lib/python3.7/site-packages/sklearn/model_selection/_search.py:813: DeprecationWarning: The default of the `iid` parameter will change from True to False in version 0.22 and will be removed in 0.24. This will change numeric results when test-set sizes are unequal.\n",
      "  DeprecationWarning)\n"
     ]
    }
   ],
   "source": [
    "from sklearn.model_selection import GridSearchCV\n",
    "\n",
    "hyperparameters_grid = {\n",
    "    'n_estimators': [10, 20, 40, 80, 100], \n",
    "    'max_features': [None, 'sqrt', 'log2']\n",
    "}\n",
    "\n",
    "gscv_rfc = GridSearchCV(estimator=rfc_model_1, param_grid=hyperparameters_grid, cv=4)\n",
    "\n",
    "gscv_rfc.fit(x_train, y_train)\n",
    "\n",
    "print(gscv_rfc.best_params_)"
   ]
  },
  {
   "cell_type": "code",
   "execution_count": 17,
   "metadata": {},
   "outputs": [
    {
     "data": {
      "text/html": [
       "<div>\n",
       "<style scoped>\n",
       "    .dataframe tbody tr th:only-of-type {\n",
       "        vertical-align: middle;\n",
       "    }\n",
       "\n",
       "    .dataframe tbody tr th {\n",
       "        vertical-align: top;\n",
       "    }\n",
       "\n",
       "    .dataframe thead th {\n",
       "        text-align: right;\n",
       "    }\n",
       "</style>\n",
       "<table border=\"1\" class=\"dataframe\">\n",
       "  <thead>\n",
       "    <tr style=\"text-align: right;\">\n",
       "      <th>Predicted</th>\n",
       "      <th>0</th>\n",
       "      <th>1</th>\n",
       "    </tr>\n",
       "    <tr>\n",
       "      <th>Actual</th>\n",
       "      <th></th>\n",
       "      <th></th>\n",
       "    </tr>\n",
       "  </thead>\n",
       "  <tbody>\n",
       "    <tr>\n",
       "      <th>0</th>\n",
       "      <td>43</td>\n",
       "      <td>54</td>\n",
       "    </tr>\n",
       "    <tr>\n",
       "      <th>1</th>\n",
       "      <td>33</td>\n",
       "      <td>120</td>\n",
       "    </tr>\n",
       "  </tbody>\n",
       "</table>\n",
       "</div>"
      ],
      "text/plain": [
       " Predicted   0    1\n",
       "Actual             \n",
       "0           43   54\n",
       "1           33  120"
      ]
     },
     "execution_count": 17,
     "metadata": {},
     "output_type": "execute_result"
    }
   ],
   "source": [
    "y_hat_2 = gscv_rfc.predict(x_test)\n",
    "\n",
    "y_actual_2 = pd.Series(y_test.values, name='Actual')\n",
    "y_predicted_2 = pd.Series(y_hat_2, name=' Predicted')\n",
    "cm_2 = pd.crosstab(y_actual_2, y_predicted_2)\n",
    "cm_2"
   ]
  },
  {
   "cell_type": "code",
   "execution_count": 18,
   "metadata": {},
   "outputs": [
    {
     "name": "stdout",
     "output_type": "stream",
     "text": [
      "Accuracy Score:  0.652\n"
     ]
    }
   ],
   "source": [
    "print('Accuracy Score: ', accuracy_score(y_test, y_hat_2))"
   ]
  },
  {
   "cell_type": "code",
   "execution_count": 19,
   "metadata": {},
   "outputs": [
    {
     "name": "stdout",
     "output_type": "stream",
     "text": [
      "Accuracy Score:  0.652\n"
     ]
    }
   ],
   "source": [
    "rfc_model_2 = RFC(random_state=0, max_features=None, n_estimators=80)\n",
    "rfc_model_2.fit(x_train, y_train)\n",
    "y_hat_3 = rfc_model_2.predict(x_test)\n",
    "print('Accuracy Score: ', accuracy_score(y_test, y_hat_3))"
   ]
  },
  {
   "cell_type": "code",
   "execution_count": 20,
   "metadata": {},
   "outputs": [
    {
     "name": "stderr",
     "output_type": "stream",
     "text": [
      "/home/ngarg/anaconda3/lib/python3.7/site-packages/sklearn/model_selection/_search.py:813: DeprecationWarning: The default of the `iid` parameter will change from True to False in version 0.22 and will be removed in 0.24. This will change numeric results when test-set sizes are unequal.\n",
      "  DeprecationWarning)\n"
     ]
    },
    {
     "name": "stdout",
     "output_type": "stream",
     "text": [
      "{'max_features': 'sqrt', 'n_estimators': 500}\n"
     ]
    }
   ],
   "source": [
    "hyperparameters_grid_2 = {\n",
    "    'n_estimators': [50, 100, 200, 500, 700, 1000], \n",
    "    'max_features': [None, 'sqrt', 'log2']\n",
    "}\n",
    "\n",
    "gscv_rfc_2 = GridSearchCV(estimator=RFC(random_state=0), param_grid=hyperparameters_grid_2, cv=4)\n",
    "\n",
    "gscv_rfc_2.fit(x_train, y_train)\n",
    "\n",
    "print(gscv_rfc_2.best_params_)"
   ]
  },
  {
   "cell_type": "code",
   "execution_count": 21,
   "metadata": {},
   "outputs": [
    {
     "name": "stdout",
     "output_type": "stream",
     "text": [
      "Accuracy Score:  0.688\n"
     ]
    }
   ],
   "source": [
    "y_hat_4 = gscv_rfc_2.predict(x_test)\n",
    "print('Accuracy Score: ', accuracy_score(y_test, y_hat_4))"
   ]
  },
  {
   "cell_type": "markdown",
   "metadata": {},
   "source": [
    "### Feature Importances as identified by RFC"
   ]
  },
  {
   "cell_type": "code",
   "execution_count": 22,
   "metadata": {},
   "outputs": [
    {
     "name": "stdout",
     "output_type": "stream",
     "text": [
      "Accuracy Score:  0.688\n",
      "[0.20946786284140986, 0.02568952853074575, 0.01342173191985556, 0.04358354783235882, 0.2227756820730465, 0.03197102042325868, 0.18305681692847972, 0.27003380945084515]\n"
     ]
    }
   ],
   "source": [
    "rfc_model_3 = RFC(random_state=0, max_features='sqrt', n_estimators=500)\n",
    "rfc_model_3.fit(x_train, y_train)\n",
    "y_hat_5 = rfc_model_3.predict(x_test)\n",
    "print('Accuracy Score: ', accuracy_score(y_test, y_hat_5))\n",
    "print(list(rfc_model_3.feature_importances_))"
   ]
  },
  {
   "cell_type": "code",
   "execution_count": 23,
   "metadata": {},
   "outputs": [
    {
     "data": {
      "text/html": [
       "<div>\n",
       "<style scoped>\n",
       "    .dataframe tbody tr th:only-of-type {\n",
       "        vertical-align: middle;\n",
       "    }\n",
       "\n",
       "    .dataframe tbody tr th {\n",
       "        vertical-align: top;\n",
       "    }\n",
       "\n",
       "    .dataframe thead th {\n",
       "        text-align: right;\n",
       "    }\n",
       "</style>\n",
       "<table border=\"1\" class=\"dataframe\">\n",
       "  <thead>\n",
       "    <tr style=\"text-align: right;\">\n",
       "      <th></th>\n",
       "      <th>Age</th>\n",
       "      <th>Is_Married</th>\n",
       "      <th>Has_Children</th>\n",
       "      <th>Children_Count</th>\n",
       "      <th>Home_Distance</th>\n",
       "      <th>Drinks_Tea</th>\n",
       "      <th>Lectures_Missed</th>\n",
       "      <th>Average_Assignments_Score</th>\n",
       "    </tr>\n",
       "  </thead>\n",
       "  <tbody>\n",
       "    <tr>\n",
       "      <th>993</th>\n",
       "      <td>26</td>\n",
       "      <td>0</td>\n",
       "      <td>0</td>\n",
       "      <td>0</td>\n",
       "      <td>15</td>\n",
       "      <td>0</td>\n",
       "      <td>8</td>\n",
       "      <td>51</td>\n",
       "    </tr>\n",
       "  </tbody>\n",
       "</table>\n",
       "</div>"
      ],
      "text/plain": [
       "     Age  Is_Married  Has_Children  Children_Count  Home_Distance  Drinks_Tea  \\\n",
       "993   26           0             0               0             15           0   \n",
       "\n",
       "     Lectures_Missed  Average_Assignments_Score  \n",
       "993                8                         51  "
      ]
     },
     "execution_count": 23,
     "metadata": {},
     "output_type": "execute_result"
    }
   ],
   "source": [
    "x_test.head(1)"
   ]
  },
  {
   "cell_type": "markdown",
   "metadata": {},
   "source": [
    "### More models for experiments: using different feature combinations"
   ]
  },
  {
   "cell_type": "code",
   "execution_count": 24,
   "metadata": {},
   "outputs": [
    {
     "data": {
      "text/plain": [
       "(1000, 4)"
      ]
     },
     "execution_count": 24,
     "metadata": {},
     "output_type": "execute_result"
    }
   ],
   "source": [
    "features_2 = df_student_historic_raw_data.drop(['ID', 'Is_Married', 'Has_Children', 'Children_Count', 'Drinks_Tea', 'Exam_Result'], axis=1)\n",
    "features_2.shape"
   ]
  },
  {
   "cell_type": "code",
   "execution_count": 25,
   "metadata": {},
   "outputs": [
    {
     "name": "stdout",
     "output_type": "stream",
     "text": [
      "(750, 4) (750,)\n",
      "(250, 4) (250,)\n"
     ]
    }
   ],
   "source": [
    "x_train_2, x_test_2, y_train, y_test = train_test_split(features_2, labels, random_state=0)\n",
    "\n",
    "print(x_train_2.shape, y_train.shape)\n",
    "print(x_test_2.shape, y_test.shape)"
   ]
  },
  {
   "cell_type": "code",
   "execution_count": 26,
   "metadata": {},
   "outputs": [
    {
     "name": "stdout",
     "output_type": "stream",
     "text": [
      "Accuracy Score:  0.68\n"
     ]
    }
   ],
   "source": [
    "rfc_model_4 = RFC(random_state=0, max_features='sqrt', n_estimators=500)\n",
    "rfc_model_4.fit(x_train_2, y_train)\n",
    "y_hat_6 = rfc_model_4.predict(x_test_2)\n",
    "print('Accuracy Score: ', accuracy_score(y_test, y_hat_6))"
   ]
  },
  {
   "cell_type": "code",
   "execution_count": 27,
   "metadata": {},
   "outputs": [
    {
     "name": "stdout",
     "output_type": "stream",
     "text": [
      "Accuracy Score:  0.692\n"
     ]
    }
   ],
   "source": [
    "features_3 = df_student_historic_raw_data[['Age', 'Children_Count', 'Home_Distance', 'Lectures_Missed', 'Average_Assignments_Score']]\n",
    "x_train_3, x_test_3, y_train, y_test = train_test_split(features_3, labels, random_state=0)\n",
    "rfc_model_5 = RFC(random_state=0, max_features='sqrt', n_estimators=500)\n",
    "rfc_model_5.fit(x_train_3, y_train)\n",
    "y_hat_7 = rfc_model_5.predict(x_test_3)\n",
    "print('Accuracy Score: ', accuracy_score(y_test, y_hat_7))"
   ]
  },
  {
   "cell_type": "markdown",
   "metadata": {},
   "source": [
    "### Checking variable correlations using heatmap (part of EDA)"
   ]
  },
  {
   "cell_type": "code",
   "execution_count": 28,
   "metadata": {},
   "outputs": [
    {
     "data": {
      "text/plain": [
       "<matplotlib.axes._subplots.AxesSubplot at 0x7fc13840d510>"
      ]
     },
     "execution_count": 28,
     "metadata": {},
     "output_type": "execute_result"
    },
    {
     "data": {
      "image/png": "[encoded data removed]",
      "text/plain": [
       "<Figure size 842.4x595.44 with 2 Axes>"
      ]
     },
     "metadata": {},
     "output_type": "display_data"
    }
   ],
   "source": [
    "import seaborn as sns\n",
    "%matplotlib inline\n",
    "sns.set(rc={'figure.figsize':(11.7,8.27)})\n",
    "sns.heatmap(df_student_historic_raw_data.drop(['ID'], axis=1).corr(), annot=True)"
   ]
  },
  {
   "cell_type": "markdown",
   "metadata": {},
   "source": [
    "### A couple more models according to correlation results"
   ]
  },
  {
   "cell_type": "code",
   "execution_count": 30,
   "metadata": {},
   "outputs": [
    {
     "name": "stdout",
     "output_type": "stream",
     "text": [
      "Accuracy Score:  0.676\n"
     ]
    }
   ],
   "source": [
    "features_4 = df_student_historic_raw_data[['Age', 'Children_Count', 'Drinks_Tea', 'Lectures_Missed', 'Average_Assignments_Score']]\n",
    "x_train_4, x_test_4, y_train, y_test = train_test_split(features_4, labels, random_state=0)\n",
    "rfc_model_6 = RFC(random_state=0, max_features='sqrt', n_estimators=500)\n",
    "rfc_model_6.fit(x_train_4, y_train)\n",
    "y_hat_8 = rfc_model_6.predict(x_test_4)\n",
    "print('Accuracy Score: ', accuracy_score(y_test, y_hat_8))"
   ]
  },
  {
   "cell_type": "code",
   "execution_count": 31,
   "metadata": {},
   "outputs": [
    {
     "name": "stdout",
     "output_type": "stream",
     "text": [
      "Accuracy Score:  0.604\n"
     ]
    }
   ],
   "source": [
    "features_5 = df_student_historic_raw_data[['Lectures_Missed', 'Average_Assignments_Score']]\n",
    "x_train_5, x_test_5, y_train, y_test = train_test_split(features_5, labels, random_state=0)\n",
    "rfc_model_7 = RFC(random_state=0, max_features='sqrt', n_estimators=500)\n",
    "rfc_model_7.fit(x_train_5, y_train)\n",
    "y_hat_9 = rfc_model_7.predict(x_test_5)\n",
    "print('Accuracy Score: ', accuracy_score(y_test, y_hat_9))"
   ]
  },
  {
   "cell_type": "markdown",
   "metadata": {},
   "source": [
    "### Building a model comparision table"
   ]
  },
  {
   "cell_type": "code",
   "execution_count": 32,
   "metadata": {},
   "outputs": [
    {
     "data": {
      "text/html": [
       "<div>\n",
       "<style scoped>\n",
       "    .dataframe tbody tr th:only-of-type {\n",
       "        vertical-align: middle;\n",
       "    }\n",
       "\n",
       "    .dataframe tbody tr th {\n",
       "        vertical-align: top;\n",
       "    }\n",
       "\n",
       "    .dataframe thead th {\n",
       "        text-align: right;\n",
       "    }\n",
       "</style>\n",
       "<table border=\"1\" class=\"dataframe\">\n",
       "  <thead>\n",
       "    <tr style=\"text-align: right;\">\n",
       "      <th></th>\n",
       "      <th>name</th>\n",
       "      <th>feature_count</th>\n",
       "      <th>accuracy</th>\n",
       "      <th>max_features</th>\n",
       "      <th>n_estimators</th>\n",
       "      <th>feature1</th>\n",
       "      <th>feature2</th>\n",
       "      <th>feature3</th>\n",
       "      <th>feature4</th>\n",
       "      <th>feature5</th>\n",
       "      <th>feature6</th>\n",
       "      <th>feature7</th>\n",
       "      <th>feature8</th>\n",
       "    </tr>\n",
       "  </thead>\n",
       "  <tbody>\n",
       "    <tr>\n",
       "      <th>0</th>\n",
       "      <td>rfc_model_1</td>\n",
       "      <td>8</td>\n",
       "      <td>0.656</td>\n",
       "      <td>auto</td>\n",
       "      <td>10</td>\n",
       "      <td>Age</td>\n",
       "      <td>Is_Married</td>\n",
       "      <td>Has_Children</td>\n",
       "      <td>Children_Count</td>\n",
       "      <td>Home_Distance</td>\n",
       "      <td>Drinks_Tea</td>\n",
       "      <td>Lectures_Missed</td>\n",
       "      <td>Average_Assignments_Score</td>\n",
       "    </tr>\n",
       "    <tr>\n",
       "      <th>1</th>\n",
       "      <td>rfc_model_2</td>\n",
       "      <td>8</td>\n",
       "      <td>0.652</td>\n",
       "      <td>None</td>\n",
       "      <td>80</td>\n",
       "      <td>Age</td>\n",
       "      <td>Is_Married</td>\n",
       "      <td>Has_Children</td>\n",
       "      <td>Children_Count</td>\n",
       "      <td>Home_Distance</td>\n",
       "      <td>Drinks_Tea</td>\n",
       "      <td>Lectures_Missed</td>\n",
       "      <td>Average_Assignments_Score</td>\n",
       "    </tr>\n",
       "    <tr>\n",
       "      <th>2</th>\n",
       "      <td>rfc_model_3</td>\n",
       "      <td>8</td>\n",
       "      <td>0.688</td>\n",
       "      <td>sqrt</td>\n",
       "      <td>500</td>\n",
       "      <td>Age</td>\n",
       "      <td>Is_Married</td>\n",
       "      <td>Has_Children</td>\n",
       "      <td>Children_Count</td>\n",
       "      <td>Home_Distance</td>\n",
       "      <td>Drinks_Tea</td>\n",
       "      <td>Lectures_Missed</td>\n",
       "      <td>Average_Assignments_Score</td>\n",
       "    </tr>\n",
       "    <tr>\n",
       "      <th>3</th>\n",
       "      <td>rfc_model_4</td>\n",
       "      <td>4</td>\n",
       "      <td>0.680</td>\n",
       "      <td>sqrt</td>\n",
       "      <td>500</td>\n",
       "      <td>Age</td>\n",
       "      <td>Home_Distance</td>\n",
       "      <td>Lectures_Missed</td>\n",
       "      <td>Average_Assignments_Score</td>\n",
       "      <td></td>\n",
       "      <td></td>\n",
       "      <td></td>\n",
       "      <td></td>\n",
       "    </tr>\n",
       "    <tr>\n",
       "      <th>4</th>\n",
       "      <td>rfc_model_5</td>\n",
       "      <td>5</td>\n",
       "      <td>0.692</td>\n",
       "      <td>sqrt</td>\n",
       "      <td>500</td>\n",
       "      <td>Age</td>\n",
       "      <td>Children_Count</td>\n",
       "      <td>Home_Distance</td>\n",
       "      <td>Lectures_Missed</td>\n",
       "      <td>Average_Assignments_Score</td>\n",
       "      <td></td>\n",
       "      <td></td>\n",
       "      <td></td>\n",
       "    </tr>\n",
       "    <tr>\n",
       "      <th>5</th>\n",
       "      <td>rfc_model_6</td>\n",
       "      <td>5</td>\n",
       "      <td>0.676</td>\n",
       "      <td>sqrt</td>\n",
       "      <td>500</td>\n",
       "      <td>Age</td>\n",
       "      <td>Children_Count</td>\n",
       "      <td>Drinks_Tea</td>\n",
       "      <td>Lectures_Missed</td>\n",
       "      <td>Average_Assignments_Score</td>\n",
       "      <td></td>\n",
       "      <td></td>\n",
       "      <td></td>\n",
       "    </tr>\n",
       "    <tr>\n",
       "      <th>6</th>\n",
       "      <td>rfc_model_7</td>\n",
       "      <td>2</td>\n",
       "      <td>0.604</td>\n",
       "      <td>sqrt</td>\n",
       "      <td>500</td>\n",
       "      <td>Lectures_Missed</td>\n",
       "      <td>Average_Assignments_Score</td>\n",
       "      <td></td>\n",
       "      <td></td>\n",
       "      <td></td>\n",
       "      <td></td>\n",
       "      <td></td>\n",
       "      <td></td>\n",
       "    </tr>\n",
       "  </tbody>\n",
       "</table>\n",
       "</div>"
      ],
      "text/plain": [
       "          name  feature_count  accuracy max_features  n_estimators  \\\n",
       "0  rfc_model_1              8     0.656         auto            10   \n",
       "1  rfc_model_2              8     0.652         None            80   \n",
       "2  rfc_model_3              8     0.688         sqrt           500   \n",
       "3  rfc_model_4              4     0.680         sqrt           500   \n",
       "4  rfc_model_5              5     0.692         sqrt           500   \n",
       "5  rfc_model_6              5     0.676         sqrt           500   \n",
       "6  rfc_model_7              2     0.604         sqrt           500   \n",
       "\n",
       "          feature1                   feature2         feature3  \\\n",
       "0              Age                 Is_Married     Has_Children   \n",
       "1              Age                 Is_Married     Has_Children   \n",
       "2              Age                 Is_Married     Has_Children   \n",
       "3              Age              Home_Distance  Lectures_Missed   \n",
       "4              Age             Children_Count    Home_Distance   \n",
       "5              Age             Children_Count       Drinks_Tea   \n",
       "6  Lectures_Missed  Average_Assignments_Score                    \n",
       "\n",
       "                    feature4                   feature5    feature6  \\\n",
       "0             Children_Count              Home_Distance  Drinks_Tea   \n",
       "1             Children_Count              Home_Distance  Drinks_Tea   \n",
       "2             Children_Count              Home_Distance  Drinks_Tea   \n",
       "3  Average_Assignments_Score                                          \n",
       "4            Lectures_Missed  Average_Assignments_Score               \n",
       "5            Lectures_Missed  Average_Assignments_Score               \n",
       "6                                                                     \n",
       "\n",
       "          feature7                   feature8  \n",
       "0  Lectures_Missed  Average_Assignments_Score  \n",
       "1  Lectures_Missed  Average_Assignments_Score  \n",
       "2  Lectures_Missed  Average_Assignments_Score  \n",
       "3                                              \n",
       "4                                              \n",
       "5                                              \n",
       "6                                              "
      ]
     },
     "execution_count": 32,
     "metadata": {},
     "output_type": "execute_result"
    }
   ],
   "source": [
    "model = [rfc_model_1, rfc_model_2, rfc_model_3, rfc_model_4, rfc_model_5, rfc_model_6, rfc_model_7]\n",
    "model_features = [list(x_train.columns), list(x_train.columns), list(x_train.columns), list(x_train_2.columns), list(x_train_3.columns), list(x_train_4.columns), list(x_train_5.columns)]\n",
    "model_test_set = [x_test, x_test, x_test, x_test_2, x_test_3, x_test_4, x_test_5]\n",
    "model_hyperparameter_max_features = ['auto', 'None', 'sqrt', 'sqrt', 'sqrt', 'sqrt', 'sqrt']\n",
    "model_hyperparameter_n_estimators = [10, 80, 500, 500, 500, 500, 500]\n",
    "model_name = []\n",
    "model_feature_count = []\n",
    "model_accuracy = []\n",
    "\n",
    "# populate the empty lists\n",
    "for i in range(7):\n",
    "    model_name.append('rfc_model_'+str(i+1))\n",
    "    model_feature_count.append(model[i].n_features_)\n",
    "    model_accuracy.append(accuracy_score(y_test, model[i].predict(model_test_set[i])))\n",
    "\n",
    "# create a dataframe from the lists\n",
    "df_model_evaluation = pd.DataFrame({'name': model_name, \n",
    "                                    'feature_count': model_feature_count,\n",
    "                                    'accuracy': model_accuracy, \n",
    "                                    'max_features': model_hyperparameter_max_features, \n",
    "                                    'n_estimators': model_hyperparameter_n_estimators})\n",
    "\n",
    "# feature list padding for models that used less than 8 features\n",
    "for i in range(7):\n",
    "    feature_count = len(model_features[i])\n",
    "    if feature_count < 8:\n",
    "        for j in range(feature_count, 8):\n",
    "            model_features[i].append('')\n",
    "\n",
    "# add columns to the dataframe for each feature \n",
    "for i in range(8):\n",
    "    df_model_evaluation['feature'+str(i+1)] = [x[i] for x in model_features]\n",
    "df_model_evaluation"
   ]
  }
 ],
 "metadata": {
  "kernelspec": {
   "display_name": "Python 3",
   "language": "python",
   "name": "python3"
  },
  "language_info": {
   "codemirror_mode": {
    "name": "ipython",
    "version": 3
   },
   "file_extension": ".py",
   "mimetype": "text/x-python",
   "name": "python",
   "nbconvert_exporter": "python",
   "pygments_lexer": "ipython3",
   "version": "3.8.2"
  }
 },
 "nbformat": 4,
 "nbformat_minor": 2
}
